{
 "cells": [
  {
   "cell_type": "code",
   "execution_count": 1,
   "id": "f1d34f04",
   "metadata": {},
   "outputs": [],
   "source": [
    "#6.1.4\n",
    "# Import the dependencies.\n",
    "import pandas as pd\n",
    "import matplotlib.pyplot as plt\n",
    "import numpy as np"
   ]
  },
  {
   "cell_type": "code",
   "execution_count": 2,
   "id": "d4dd564b",
   "metadata": {},
   "outputs": [
    {
     "data": {
      "text/plain": [
       "<zip at 0x2239571bbc0>"
      ]
     },
     "execution_count": 2,
     "metadata": {},
     "output_type": "execute_result"
    }
   ],
   "source": [
    "# Create a set of random latitude and longitude combinations.\n",
    "lats = np.random.uniform(low=-90.000, high=90.000, size=1500)\n",
    "lngs = np.random.uniform(low=-180.000, high=180.000, size=1500)\n",
    "lat_lngs = zip(lats, lngs)\n",
    "lat_lngs"
   ]
  },
  {
   "cell_type": "code",
   "execution_count": 3,
   "id": "8801839b",
   "metadata": {},
   "outputs": [],
   "source": [
    "# Create a practice set of random latitude and longitude combinations.\n",
    "lats = [25.12903645, 25.92017388, 26.62509167, -59.98969384, 37.30571269]\n",
    "lngs = [-67.59741259, 11.09532135, 74.84233102, -76.89176677, -61.13376282]\n",
    "lat_lngs = zip(lats, lngs)"
   ]
  },
  {
   "cell_type": "code",
   "execution_count": 4,
   "id": "e0f53ff4",
   "metadata": {},
   "outputs": [],
   "source": [
    "# Add the latitudes and longitudes to a list.\n",
    "coordinates = list(lat_lngs)"
   ]
  },
  {
   "cell_type": "code",
   "execution_count": 5,
   "id": "88b07b67",
   "metadata": {},
   "outputs": [
    {
     "name": "stdout",
     "output_type": "stream",
     "text": [
      "25.12903645 -67.59741259\n",
      "25.92017388 11.09532135\n",
      "26.62509167 74.84233102\n",
      "-59.98969384 -76.89176677\n",
      "37.30571269 -61.13376282\n"
     ]
    }
   ],
   "source": [
    "# Use the print() function to display the latitude and longitude combinations.\n",
    "for coordinate in coordinates:\n",
    "    print(coordinate[0], coordinate[1])"
   ]
  },
  {
   "cell_type": "code",
   "execution_count": 6,
   "id": "48fcfdb8",
   "metadata": {},
   "outputs": [],
   "source": [
    "# Use the citipy module to determine city based on latitude and longitude.\n",
    "from citipy import citipy"
   ]
  },
  {
   "cell_type": "code",
   "execution_count": 7,
   "id": "e4bc35be",
   "metadata": {},
   "outputs": [
    {
     "name": "stdout",
     "output_type": "stream",
     "text": [
      "cockburn town tc\n",
      "gat ly\n",
      "parvatsar in\n",
      "punta arenas cl\n",
      "saint george bm\n"
     ]
    }
   ],
   "source": [
    "# Use the print() function to display the latitude and longitude combinations.\n",
    "for coordinate in coordinates:\n",
    "    print(citipy.nearest_city(coordinate[0], coordinate[1]).city_name,\n",
    "          citipy.nearest_city(coordinate[0], coordinate[1]).country_code)"
   ]
  },
  {
   "cell_type": "code",
   "execution_count": 8,
   "id": "c1da01b1",
   "metadata": {},
   "outputs": [
    {
     "data": {
      "text/plain": [
       "5"
      ]
     },
     "execution_count": 8,
     "metadata": {},
     "output_type": "execute_result"
    }
   ],
   "source": [
    "# Create a list for holding the cities.\n",
    "cities = []\n",
    "# Identify the nearest city for each latitude and longitude combination.\n",
    "for coordinate in coordinates:\n",
    "    city = citipy.nearest_city(coordinate[0], coordinate[1]).city_name\n",
    "\n",
    "    # If the city is unique, then we will add it to the cities list.\n",
    "    if city not in cities:\n",
    "        cities.append(city)\n",
    "# Print the city count to confirm sufficient count.\n",
    "len(cities)"
   ]
  },
  {
   "cell_type": "markdown",
   "id": "1210a5e1",
   "metadata": {},
   "source": [
    "#6.2.2\n",
    "# API Key generated at OpenWeather\n",
    "import requests\n",
    "requests.__version__"
   ]
  },
  {
   "cell_type": "code",
   "execution_count": 9,
   "id": "e9f29d05",
   "metadata": {},
   "outputs": [],
   "source": [
    "#6.2.3\n",
    "# Import the requests library.\n",
    "import requests\n",
    "\n",
    "# Import the API key.\n",
    "from config import weather_api_key"
   ]
  },
  {
   "cell_type": "code",
   "execution_count": 10,
   "id": "93aebe68",
   "metadata": {},
   "outputs": [
    {
     "name": "stdout",
     "output_type": "stream",
     "text": [
      "http://api.openweathermap.org/data/2.5/weather?units=Imperial&APPID=83000943d14680dce8eaea0f205bd49a\n"
     ]
    }
   ],
   "source": [
    "# Starting URL for Weather Map API Call.\n",
    "url = \"http://api.openweathermap.org/data/2.5/weather?units=Imperial&APPID=\" + weather_api_key\n",
    "print(url)"
   ]
  },
  {
   "cell_type": "code",
   "execution_count": 11,
   "id": "58121a0d",
   "metadata": {},
   "outputs": [
    {
     "name": "stdout",
     "output_type": "stream",
     "text": [
      "http://api.openweathermap.org/data/2.5/weather?units=Imperial&APPID=83000943d14680dce8eaea0f205bd49a&q=Boston\n"
     ]
    }
   ],
   "source": [
    "# Create an endpoint URL for a city.\n",
    "city_url = url + \"&q=\" + \"Boston\"\n",
    "print(city_url)"
   ]
  },
  {
   "cell_type": "code",
   "execution_count": 12,
   "id": "6ab16cce",
   "metadata": {},
   "outputs": [
    {
     "data": {
      "text/plain": [
       "<Response [200]>"
      ]
     },
     "execution_count": 12,
     "metadata": {},
     "output_type": "execute_result"
    }
   ],
   "source": [
    "#6.2.4\n",
    "# Make a 'Get' request for the city weather.\n",
    "city_weather = requests.get(city_url)\n",
    "city_weather"
   ]
  },
  {
   "cell_type": "code",
   "execution_count": 13,
   "id": "a41a97be",
   "metadata": {},
   "outputs": [
    {
     "data": {
      "text/plain": [
       "<Response [404]>"
      ]
     },
     "execution_count": 13,
     "metadata": {},
     "output_type": "execute_result"
    }
   ],
   "source": [
    "# Create an endpoint URL for a city.\n",
    "city_url = url + \"&q=\" + \"Bston\"\n",
    "city_weather = requests.get(city_url)\n",
    "city_weather"
   ]
  },
  {
   "cell_type": "code",
   "execution_count": 14,
   "id": "11195fc2",
   "metadata": {},
   "outputs": [
    {
     "data": {
      "text/plain": [
       "<Response [200]>"
      ]
     },
     "execution_count": 14,
     "metadata": {},
     "output_type": "execute_result"
    }
   ],
   "source": [
    "# Create an endpoint URL for a city.\n",
    "city_url = url + \"&q=\" + \"Boston\"\n",
    "city_weather = requests.get(city_url)\n",
    "city_weather"
   ]
  },
  {
   "cell_type": "code",
   "execution_count": 15,
   "id": "ef497cf7",
   "metadata": {},
   "outputs": [
    {
     "data": {
      "text/plain": [
       "'{\"coord\":{\"lon\":-71.0598,\"lat\":42.3584},\"weather\":[{\"id\":803,\"main\":\"Clouds\",\"description\":\"broken clouds\",\"icon\":\"04d\"}],\"base\":\"stations\",\"main\":{\"temp\":59.99,\"feels_like\":58.32,\"temp_min\":55.74,\"temp_max\":63.37,\"pressure\":1022,\"humidity\":56},\"visibility\":10000,\"wind\":{\"speed\":14.97,\"deg\":320},\"clouds\":{\"all\":75},\"dt\":1663335466,\"sys\":{\"type\":2,\"id\":2009921,\"country\":\"US\",\"sunrise\":1663323915,\"sunset\":1663368789},\"timezone\":-14400,\"id\":4930956,\"name\":\"Boston\",\"cod\":200}'"
      ]
     },
     "execution_count": 15,
     "metadata": {},
     "output_type": "execute_result"
    }
   ],
   "source": [
    "# Get the text of the 'Get' request.\n",
    "city_weather.text"
   ]
  },
  {
   "cell_type": "code",
   "execution_count": 16,
   "id": "94c9cecd",
   "metadata": {},
   "outputs": [
    {
     "data": {
      "text/plain": [
       "{'coord': {'lon': -71.0598, 'lat': 42.3584},\n",
       " 'weather': [{'id': 803,\n",
       "   'main': 'Clouds',\n",
       "   'description': 'broken clouds',\n",
       "   'icon': '04d'}],\n",
       " 'base': 'stations',\n",
       " 'main': {'temp': 59.99,\n",
       "  'feels_like': 58.32,\n",
       "  'temp_min': 55.74,\n",
       "  'temp_max': 63.37,\n",
       "  'pressure': 1022,\n",
       "  'humidity': 56},\n",
       " 'visibility': 10000,\n",
       " 'wind': {'speed': 14.97, 'deg': 320},\n",
       " 'clouds': {'all': 75},\n",
       " 'dt': 1663335466,\n",
       " 'sys': {'type': 2,\n",
       "  'id': 2009921,\n",
       "  'country': 'US',\n",
       "  'sunrise': 1663323915,\n",
       "  'sunset': 1663368789},\n",
       " 'timezone': -14400,\n",
       " 'id': 4930956,\n",
       " 'name': 'Boston',\n",
       " 'cod': 200}"
      ]
     },
     "execution_count": 16,
     "metadata": {},
     "output_type": "execute_result"
    }
   ],
   "source": [
    "# Get the JSON text of the 'Get' request.\n",
    "city_weather.json()"
   ]
  },
  {
   "cell_type": "code",
   "execution_count": 17,
   "id": "2ea66df3",
   "metadata": {},
   "outputs": [
    {
     "name": "stdout",
     "output_type": "stream",
     "text": [
      "City Weather found.\n"
     ]
    }
   ],
   "source": [
    "# Create an endpoint URL for a city.\n",
    "city_url = url + \"&q=\" + \"Boston\"\n",
    "city_weather = requests.get(city_url)\n",
    "if city_weather.status_code == 200:\n",
    "    print(f\"City Weather found.\")\n",
    "else:\n",
    "    print(f\"City weather not found.\")"
   ]
  },
  {
   "cell_type": "code",
   "execution_count": 18,
   "id": "ab235f21",
   "metadata": {},
   "outputs": [
    {
     "name": "stdout",
     "output_type": "stream",
     "text": [
      "City weather not found.\n"
     ]
    }
   ],
   "source": [
    "# Create an endpoint URL for a city.\n",
    "city_url = url + \"&q=\" + \"Bston\"\n",
    "city_weather = requests.get(city_url)\n",
    "if city_weather.status_code == 200:\n",
    "    print(f\"City Weather found.\")\n",
    "else:\n",
    "    print(f\"City weather not found.\")"
   ]
  },
  {
   "cell_type": "code",
   "execution_count": 19,
   "id": "78562f2e",
   "metadata": {},
   "outputs": [
    {
     "data": {
      "text/plain": [
       "{'coord': {'lon': -71.0598, 'lat': 42.3584},\n",
       " 'weather': [{'id': 803,\n",
       "   'main': 'Clouds',\n",
       "   'description': 'broken clouds',\n",
       "   'icon': '04d'}],\n",
       " 'base': 'stations',\n",
       " 'main': {'temp': 59.99,\n",
       "  'feels_like': 58.32,\n",
       "  'temp_min': 55.74,\n",
       "  'temp_max': 63.37,\n",
       "  'pressure': 1022,\n",
       "  'humidity': 56},\n",
       " 'visibility': 10000,\n",
       " 'wind': {'speed': 14.97, 'deg': 320},\n",
       " 'clouds': {'all': 75},\n",
       " 'dt': 1663335466,\n",
       " 'sys': {'type': 2,\n",
       "  'id': 2009921,\n",
       "  'country': 'US',\n",
       "  'sunrise': 1663323915,\n",
       "  'sunset': 1663368789},\n",
       " 'timezone': -14400,\n",
       " 'id': 4930956,\n",
       " 'name': 'Boston',\n",
       " 'cod': 200}"
      ]
     },
     "execution_count": 19,
     "metadata": {},
     "output_type": "execute_result"
    }
   ],
   "source": [
    "#6.2.5\n",
    "# Create an endpoint URL for a city.\n",
    "city_url = url + \"&q=\" + \"Boston\"\n",
    "city_weather = requests.get(city_url)\n",
    "city_weather.json()"
   ]
  },
  {
   "cell_type": "code",
   "execution_count": 20,
   "id": "3864806d",
   "metadata": {},
   "outputs": [],
   "source": [
    "# Get the JSON data.\n",
    "boston_data = city_weather.json()"
   ]
  },
  {
   "cell_type": "code",
   "execution_count": 21,
   "id": "5a4c064d",
   "metadata": {},
   "outputs": [
    {
     "data": {
      "text/plain": [
       "'US'"
      ]
     },
     "execution_count": 21,
     "metadata": {},
     "output_type": "execute_result"
    }
   ],
   "source": [
    "boston_data[\"sys\"][\"country\"]"
   ]
  },
  {
   "cell_type": "code",
   "execution_count": 22,
   "id": "e6fc53fa",
   "metadata": {},
   "outputs": [
    {
     "name": "stdout",
     "output_type": "stream",
     "text": [
      "42.3584 -71.0598 63.37 56 75 14.97\n"
     ]
    }
   ],
   "source": [
    "lat = boston_data[\"coord\"][\"lat\"]\n",
    "lng = boston_data[\"coord\"][\"lon\"]\n",
    "max_temp = boston_data[\"main\"][\"temp_max\"]\n",
    "humidity = boston_data[\"main\"][\"humidity\"]\n",
    "clouds = boston_data[\"clouds\"][\"all\"]\n",
    "wind = boston_data[\"wind\"][\"speed\"]\n",
    "print(lat, lng, max_temp, humidity, clouds, wind)"
   ]
  },
  {
   "cell_type": "code",
   "execution_count": 23,
   "id": "e03ccc42",
   "metadata": {},
   "outputs": [
    {
     "data": {
      "text/plain": [
       "'2022-09-16 13:37:46'"
      ]
     },
     "execution_count": 23,
     "metadata": {},
     "output_type": "execute_result"
    }
   ],
   "source": [
    "# Import the datetime module from the datetime library.\n",
    "from datetime import datetime\n",
    "# Get the date from the JSON file.\n",
    "date = boston_data[\"dt\"]\n",
    "# Convert the UTC date to a date format with year, month, day, hours, minutes, and seconds.\n",
    "datetime.utcfromtimestamp(date)\n",
    "# Convert timestamp\n",
    "datetime.utcfromtimestamp(date).strftime('%Y-%m-%d %H:%M:%S')"
   ]
  },
  {
   "cell_type": "code",
   "execution_count": 24,
   "id": "4599ba11",
   "metadata": {},
   "outputs": [],
   "source": [
    "#6.2.6\n",
    "# Import the time library and the datetime module from the datetime library \n",
    "import time\n",
    "from datetime import datetime"
   ]
  },
  {
   "cell_type": "code",
   "execution_count": 25,
   "id": "45af2fae",
   "metadata": {},
   "outputs": [
    {
     "name": "stdout",
     "output_type": "stream",
     "text": [
      "Beginning Data Retrieval     \n",
      "-----------------------------\n"
     ]
    }
   ],
   "source": [
    "# Create an empty list to hold the weather data.\n",
    "city_data = []\n",
    "# Print the beginning of the logging.\n",
    "print(\"Beginning Data Retrieval     \")\n",
    "print(\"-----------------------------\")\n",
    "\n",
    "# Create counters.\n",
    "record_count = 1\n",
    "set_count = 1"
   ]
  },
  {
   "cell_type": "code",
   "execution_count": 26,
   "id": "74e2bdaf",
   "metadata": {},
   "outputs": [],
   "source": [
    "# Loop through all the cities in our list.\n",
    "for i in range(len(cities)):\n",
    "\n",
    "    # Group cities in sets of 50 for logging purposes.\n",
    "    if (i % 50 == 0 and i >= 50):\n",
    "        set_count += 1\n",
    "        record_count = 1\n",
    "        time.sleep(60)\n",
    "\n",
    "    # Create endpoint URL with each city.\n",
    "    city_url = url + \"&q=\" + cities[i]"
   ]
  },
  {
   "cell_type": "code",
   "execution_count": 27,
   "id": "217a4172",
   "metadata": {},
   "outputs": [
    {
     "name": "stdout",
     "output_type": "stream",
     "text": [
      "Processing Record 1 of Set 1 | cockburn town\n",
      "Processing Record 2 of Set 1 | gat\n",
      "Processing Record 3 of Set 1 | parvatsar\n",
      "Processing Record 4 of Set 1 | punta arenas\n",
      "Processing Record 5 of Set 1 | saint george\n",
      "-----------------------------\n",
      "Data Retrieval Complete      \n",
      "-----------------------------\n"
     ]
    }
   ],
   "source": [
    "# Loop through all the cities in the list.\n",
    "for i, city in enumerate(cities):\n",
    "\n",
    "    # Group cities in sets of 50 for logging purposes.\n",
    "    if (i % 50 == 0 and i >= 50):\n",
    "        set_count += 1\n",
    "        record_count = 1\n",
    "        time.sleep(60)\n",
    "\n",
    "    # Create endpoint URL with each city.\n",
    "    city_url = url + \"&q=\" + city.replace(\" \",\"+\")\n",
    "\n",
    "    # Log the URL, record, and set numbers and the city.\n",
    "    print(f\"Processing Record {record_count} of Set {set_count} | {city}\")\n",
    "    # Add 1 to the record count.\n",
    "    record_count += 1\n",
    "    # Run an API request for each of the cities.\n",
    "    try:\n",
    "        # Parse the JSON and retrieve data.\n",
    "        city_weather = requests.get(city_url).json()\n",
    "        # Parse out the needed data.\n",
    "        city_lat = city_weather[\"coord\"][\"lat\"]\n",
    "        city_lng = city_weather[\"coord\"][\"lon\"]\n",
    "        city_max_temp = city_weather[\"main\"][\"temp_max\"]\n",
    "        city_humidity = city_weather[\"main\"][\"humidity\"]\n",
    "        city_clouds = city_weather[\"clouds\"][\"all\"]\n",
    "        city_wind = city_weather[\"wind\"][\"speed\"]\n",
    "        city_country = city_weather[\"sys\"][\"country\"]\n",
    "        # Convert the date to ISO standard.\n",
    "        city_date = datetime.utcfromtimestamp(city_weather[\"dt\"]).strftime('%Y-%m-%d %H:%M:%S')\n",
    "        # Append the city information into city_data list.\n",
    "        city_data.append({\"City\": city.title(),\n",
    "                          \"Lat\": city_lat,\n",
    "                          \"Lng\": city_lng,\n",
    "                          \"Max Temp\": city_max_temp,\n",
    "                          \"Humidity\": city_humidity,\n",
    "                          \"Cloudiness\": city_clouds,\n",
    "                          \"Wind Speed\": city_wind,\n",
    "                          \"Country\": city_country,\n",
    "                          \"Date\": city_date})\n",
    "\n",
    "# If an error is experienced, skip the city.\n",
    "    except:\n",
    "        print(\"City not found. Skipping...\")\n",
    "        pass\n",
    "\n",
    "# Indicate that Data Loading is complete.\n",
    "print(\"-----------------------------\")\n",
    "print(\"Data Retrieval Complete      \")\n",
    "print(\"-----------------------------\")"
   ]
  },
  {
   "cell_type": "code",
   "execution_count": 28,
   "id": "05184cd7",
   "metadata": {},
   "outputs": [
    {
     "data": {
      "text/html": [
       "<div>\n",
       "<style scoped>\n",
       "    .dataframe tbody tr th:only-of-type {\n",
       "        vertical-align: middle;\n",
       "    }\n",
       "\n",
       "    .dataframe tbody tr th {\n",
       "        vertical-align: top;\n",
       "    }\n",
       "\n",
       "    .dataframe thead th {\n",
       "        text-align: right;\n",
       "    }\n",
       "</style>\n",
       "<table border=\"1\" class=\"dataframe\">\n",
       "  <thead>\n",
       "    <tr style=\"text-align: right;\">\n",
       "      <th></th>\n",
       "      <th>City</th>\n",
       "      <th>Lat</th>\n",
       "      <th>Lng</th>\n",
       "      <th>Max Temp</th>\n",
       "      <th>Humidity</th>\n",
       "      <th>Cloudiness</th>\n",
       "      <th>Wind Speed</th>\n",
       "      <th>Country</th>\n",
       "      <th>Date</th>\n",
       "    </tr>\n",
       "  </thead>\n",
       "  <tbody>\n",
       "    <tr>\n",
       "      <th>0</th>\n",
       "      <td>Cockburn Town</td>\n",
       "      <td>21.4612</td>\n",
       "      <td>-71.1419</td>\n",
       "      <td>83.61</td>\n",
       "      <td>76</td>\n",
       "      <td>21</td>\n",
       "      <td>18.86</td>\n",
       "      <td>TC</td>\n",
       "      <td>2022-09-16 13:42:04</td>\n",
       "    </tr>\n",
       "    <tr>\n",
       "      <th>1</th>\n",
       "      <td>Gat</td>\n",
       "      <td>31.6100</td>\n",
       "      <td>34.7642</td>\n",
       "      <td>92.39</td>\n",
       "      <td>22</td>\n",
       "      <td>0</td>\n",
       "      <td>14.00</td>\n",
       "      <td>IL</td>\n",
       "      <td>2022-09-16 13:42:05</td>\n",
       "    </tr>\n",
       "    <tr>\n",
       "      <th>2</th>\n",
       "      <td>Parvatsar</td>\n",
       "      <td>26.8833</td>\n",
       "      <td>74.7667</td>\n",
       "      <td>85.86</td>\n",
       "      <td>50</td>\n",
       "      <td>18</td>\n",
       "      <td>16.13</td>\n",
       "      <td>IN</td>\n",
       "      <td>2022-09-16 13:42:06</td>\n",
       "    </tr>\n",
       "    <tr>\n",
       "      <th>3</th>\n",
       "      <td>Punta Arenas</td>\n",
       "      <td>-53.1500</td>\n",
       "      <td>-70.9167</td>\n",
       "      <td>37.51</td>\n",
       "      <td>70</td>\n",
       "      <td>40</td>\n",
       "      <td>11.50</td>\n",
       "      <td>CL</td>\n",
       "      <td>2022-09-16 13:42:06</td>\n",
       "    </tr>\n",
       "    <tr>\n",
       "      <th>4</th>\n",
       "      <td>Saint George</td>\n",
       "      <td>37.1041</td>\n",
       "      <td>-113.5841</td>\n",
       "      <td>66.79</td>\n",
       "      <td>72</td>\n",
       "      <td>75</td>\n",
       "      <td>0.00</td>\n",
       "      <td>US</td>\n",
       "      <td>2022-09-16 13:42:04</td>\n",
       "    </tr>\n",
       "  </tbody>\n",
       "</table>\n",
       "</div>"
      ],
      "text/plain": [
       "            City      Lat       Lng  Max Temp  Humidity  Cloudiness  \\\n",
       "0  Cockburn Town  21.4612  -71.1419     83.61        76          21   \n",
       "1            Gat  31.6100   34.7642     92.39        22           0   \n",
       "2      Parvatsar  26.8833   74.7667     85.86        50          18   \n",
       "3   Punta Arenas -53.1500  -70.9167     37.51        70          40   \n",
       "4   Saint George  37.1041 -113.5841     66.79        72          75   \n",
       "\n",
       "   Wind Speed Country                 Date  \n",
       "0       18.86      TC  2022-09-16 13:42:04  \n",
       "1       14.00      IL  2022-09-16 13:42:05  \n",
       "2       16.13      IN  2022-09-16 13:42:06  \n",
       "3       11.50      CL  2022-09-16 13:42:06  \n",
       "4        0.00      US  2022-09-16 13:42:04  "
      ]
     },
     "execution_count": 28,
     "metadata": {},
     "output_type": "execute_result"
    }
   ],
   "source": [
    "#6.2.7\n",
    "# Convert the array of dictionaries to a Pandas DataFrame.\n",
    "city_data_df = pd.DataFrame(city_data)\n",
    "city_data_df.head(10)"
   ]
  },
  {
   "cell_type": "code",
   "execution_count": 29,
   "id": "0237b15f",
   "metadata": {},
   "outputs": [],
   "source": [
    "# Create the output file (CSV).\n",
    "output_data_file = \"weather_data/cities.csv\"\n",
    "# Export the City_Data into a CSV.\n",
    "city_data_df.to_csv(output_data_file, index_label=\"City_ID\")"
   ]
  },
  {
   "cell_type": "code",
   "execution_count": 30,
   "id": "a909ccc4",
   "metadata": {},
   "outputs": [],
   "source": [
    "# .gitnore steps not done.\n",
    "#6.3.1\n",
    "# Extract relevant fields from the DataFrame for plotting.\n",
    "lats = city_data_df[\"Lat\"]\n",
    "max_temps = city_data_df[\"Max Temp\"]\n",
    "humidity = city_data_df[\"Humidity\"]\n",
    "cloudiness = city_data_df[\"Cloudiness\"]\n",
    "wind_speed = city_data_df[\"Wind Speed\"]"
   ]
  },
  {
   "cell_type": "code",
   "execution_count": 31,
   "id": "e70d386e",
   "metadata": {},
   "outputs": [
    {
     "data": {
      "text/plain": [
       "1663335728.071295"
      ]
     },
     "execution_count": 31,
     "metadata": {},
     "output_type": "execute_result"
    }
   ],
   "source": [
    "# Import the time module.\n",
    "import time\n",
    "# Get today's date in seconds.\n",
    "today = time.time()\n",
    "today"
   ]
  },
  {
   "cell_type": "code",
   "execution_count": 32,
   "id": "803a08ec",
   "metadata": {},
   "outputs": [
    {
     "data": {
      "image/png": "[encoded data removed]",
      "text/plain": [
       "<Figure size 432x288 with 1 Axes>"
      ]
     },
     "metadata": {
      "needs_background": "light"
     },
     "output_type": "display_data"
    }
   ],
   "source": [
    "# Import time module\n",
    "import time\n",
    "\n",
    "# Build the scatter plot for latitude vs. max temperature.\n",
    "plt.scatter(lats,\n",
    "            max_temps,\n",
    "            edgecolor=\"black\", linewidths=1, marker=\"o\",\n",
    "            alpha=0.8, label=\"Cities\")\n",
    "\n",
    "# Incorporate the other graph properties.\n",
    "plt.title(f\"City Latitude vs. Max Temperature \"+ time.strftime(\"%x\"))\n",
    "plt.ylabel(\"Max Temperature (F)\")\n",
    "plt.xlabel(\"Latitude\")\n",
    "plt.grid(True)\n",
    "\n",
    "# Save the figure.\n",
    "plt.savefig(\"weather_data/Fig1.png\")\n",
    "\n",
    "# Show plot.\n",
    "plt.show()"
   ]
  },
  {
   "cell_type": "code",
   "execution_count": 33,
   "id": "af78b31a",
   "metadata": {},
   "outputs": [
    {
     "data": {
      "image/png": "[encoded data removed]",
      "text/plain": [
       "<Figure size 432x288 with 1 Axes>"
      ]
     },
     "metadata": {
      "needs_background": "light"
     },
     "output_type": "display_data"
    }
   ],
   "source": [
    "#6.3.2\n",
    "# Build the scatter plots for latitude vs. humidity.\n",
    "plt.scatter(lats,\n",
    "            humidity,\n",
    "            edgecolor=\"black\", linewidths=1, marker=\"o\",\n",
    "            alpha=0.8, label=\"Cities\")\n",
    "\n",
    "# Incorporate the other graph properties.\n",
    "plt.title(f\"City Latitude vs. Humidity \"+ time.strftime(\"%x\"))\n",
    "plt.ylabel(\"Humidity (%)\")\n",
    "plt.xlabel(\"Latitude\")\n",
    "plt.grid(True)\n",
    "# Save the figure.\n",
    "plt.savefig(\"weather_data/Fig2.png\")\n",
    "# Show plot.\n",
    "plt.show()"
   ]
  },
  {
   "cell_type": "code",
   "execution_count": 34,
   "id": "a03f49c9",
   "metadata": {},
   "outputs": [
    {
     "data": {
      "image/png": "[encoded data removed]",
      "text/plain": [
       "<Figure size 432x288 with 1 Axes>"
      ]
     },
     "metadata": {
      "needs_background": "light"
     },
     "output_type": "display_data"
    }
   ],
   "source": [
    "#6.3.3\n",
    "# Build the scatter plots for latitude vs. cloudiness.\n",
    "plt.scatter(lats,\n",
    "            cloudiness,\n",
    "            edgecolor=\"black\", linewidths=1, marker=\"o\",\n",
    "            alpha=0.8, label=\"Cities\")\n",
    "\n",
    "# Incorporate the other graph properties.\n",
    "plt.title(f\"City Latitude vs. Cloudiness (%) \"+ time.strftime(\"%x\"))\n",
    "plt.ylabel(\"Cloudiness (%)\")\n",
    "plt.xlabel(\"Latitude\")\n",
    "plt.grid(True)\n",
    "# Save the figure.\n",
    "plt.savefig(\"weather_data/Fig3.png\")\n",
    "# Show plot.\n",
    "plt.show()"
   ]
  },
  {
   "cell_type": "code",
   "execution_count": 35,
   "id": "32e46d4c",
   "metadata": {},
   "outputs": [
    {
     "data": {
      "image/png": "[encoded data removed]",
      "text/plain": [
       "<Figure size 432x288 with 1 Axes>"
      ]
     },
     "metadata": {
      "needs_background": "light"
     },
     "output_type": "display_data"
    }
   ],
   "source": [
    "#6.3.4\n",
    "# Build the scatter plots for latitude vs. wind speed.\n",
    "plt.scatter(lats,\n",
    "            wind_speed,\n",
    "            edgecolor=\"black\", linewidths=1, marker=\"o\",\n",
    "            alpha=0.8, label=\"Cities\")\n",
    "\n",
    "# Incorporate the other graph properties.\n",
    "plt.title(f\"City Latitude vs. Wind Speed \"+ time.strftime(\"%x\"))\n",
    "plt.ylabel(\"Wind Speed (mph)\")\n",
    "plt.xlabel(\"Latitude\")\n",
    "plt.grid(True)\n",
    "# Save the figure.\n",
    "plt.savefig(\"weather_data/Fig4.png\")\n",
    "# Show plot.\n",
    "plt.show()"
   ]
  },
  {
   "cell_type": "code",
   "execution_count": 36,
   "id": "bdf7a775",
   "metadata": {},
   "outputs": [],
   "source": [
    "#6.4.1\n",
    "# Import linear regression from the SciPy stats module.\n",
    "from scipy.stats import linregress"
   ]
  },
  {
   "cell_type": "code",
   "execution_count": 37,
   "id": "f04a9e07",
   "metadata": {},
   "outputs": [],
   "source": [
    "# Create an equal number of latitudes and temperatures.\n",
    "lats = [42.5, 43.9, 8.1, 36.8, 79.9, 69.1, 25.7, 15.3, 12.7, 64.5]\n",
    "temps = [80.5, 75.3, 90.9, 90.0, 40.4, 62.3, 85.4, 79.6, 72.5, 72.0]"
   ]
  },
  {
   "cell_type": "code",
   "execution_count": 38,
   "id": "70cd9846",
   "metadata": {},
   "outputs": [
    {
     "name": "stdout",
     "output_type": "stream",
     "text": [
      "y = -0.45x + 92.94\n",
      "The p-value is: 0.011\n"
     ]
    }
   ],
   "source": [
    "# Perform linear regression.\n",
    "(slope, intercept, r_value, p_value, std_err) = linregress(lats, temps)\n",
    "# Get the equation of the line.\n",
    "line_eq = \"y = \" + str(round(slope,2)) + \"x + \" + str(round(intercept,2))\n",
    "print(line_eq)\n",
    "print(f\"The p-value is: {p_value:.3f}\")"
   ]
  },
  {
   "cell_type": "code",
   "execution_count": 39,
   "id": "b333afc3",
   "metadata": {},
   "outputs": [],
   "source": [
    "# Calculate the regression line \"y values\" from the slope and intercept.\n",
    "regress_values = [(lat * slope + intercept) for lat in lats]"
   ]
  },
  {
   "cell_type": "code",
   "execution_count": 40,
   "id": "304a46e9",
   "metadata": {},
   "outputs": [
    {
     "data": {
      "image/png": "[encoded data removed]",
      "text/plain": [
       "<Figure size 432x288 with 1 Axes>"
      ]
     },
     "metadata": {
      "needs_background": "light"
     },
     "output_type": "display_data"
    }
   ],
   "source": [
    "# Import Matplotlib.\n",
    "import matplotlib.pyplot as plt\n",
    "# Create a scatter plot of the x and y values.\n",
    "plt.scatter(lats,temps)\n",
    "# Plot the regression line with the x-values and the y coordinates based on the intercept and slope.\n",
    "plt.plot(lats,regress_values,\"r\")\n",
    "# Annotate the text for the line equation and add its coordinates.\n",
    "plt.annotate(line_eq, (10,40), fontsize=15, color=\"red\")\n",
    "plt.xlabel('Latitude')\n",
    "plt.ylabel('Temp')\n",
    "plt.show()"
   ]
  },
  {
   "cell_type": "code",
   "execution_count": 41,
   "id": "6bb7bfaa",
   "metadata": {},
   "outputs": [
    {
     "ename": "NameError",
     "evalue": "name 'x_values' is not defined",
     "output_type": "error",
     "traceback": [
      "\u001b[1;31m---------------------------------------------------------------------------\u001b[0m",
      "\u001b[1;31mNameError\u001b[0m                                 Traceback (most recent call last)",
      "Input \u001b[1;32mIn [41]\u001b[0m, in \u001b[0;36m<cell line: 3>\u001b[1;34m()\u001b[0m\n\u001b[0;32m      1\u001b[0m \u001b[38;5;66;03m#6.4.2\u001b[39;00m\n\u001b[0;32m      2\u001b[0m \u001b[38;5;66;03m# Perform linear regression.\u001b[39;00m\n\u001b[1;32m----> 3\u001b[0m (slope, intercept, r_value, p_value, std_err) \u001b[38;5;241m=\u001b[39m linregress(\u001b[43mx_values\u001b[49m, y_values)\n\u001b[0;32m      5\u001b[0m \u001b[38;5;66;03m# Calculate the regression line \"y values\" from the slope and intercept.\u001b[39;00m\n\u001b[0;32m      6\u001b[0m regress_values \u001b[38;5;241m=\u001b[39m x_values \u001b[38;5;241m*\u001b[39m slope \u001b[38;5;241m+\u001b[39m intercept\n",
      "\u001b[1;31mNameError\u001b[0m: name 'x_values' is not defined"
     ]
    }
   ],
   "source": [
    "#6.4.2\n",
    "# Perform linear regression.\n",
    "(slope, intercept, r_value, p_value, std_err) = linregress(x_values, y_values)\n",
    "\n",
    "# Calculate the regression line \"y values\" from the slope and intercept.\n",
    "regress_values = x_values * slope + intercept\n",
    "\n",
    "# Get the equation of the line.\n",
    "line_eq = \"y = \" + str(round(slope,2)) + \"x + \" + str(round(intercept,2))\n",
    "\n",
    "# Create a scatter plot of the x and y values.\n",
    "plt.scatter(x_values,y_values)\n",
    "# Plot the regression line with the x-values and the y coordinates based on the intercept and slope.\n",
    "plt.plot(x_values,regress_values,\"r\")\n",
    "# Annotate the text for the line equation and add its coordinates.\n",
    "plt.annotate(line_eq, (10,40), fontsize=15, color=\"red\")\n",
    "plt.title(title)\n",
    "plt.xlabel('Latitude')\n",
    "plt.ylabel('Temp')\n",
    "plt.show()"
   ]
  },
  {
   "cell_type": "code",
   "execution_count": 42,
   "id": "eee77bf4",
   "metadata": {},
   "outputs": [],
   "source": [
    "# Import linregress\n",
    "from scipy.stats import linregress\n",
    "\n",
    "# Create a function to create perform linear regression on the weather data\n",
    "# and plot a regression line and the equation with the data.\n",
    "def plot_linear_regression(x_values, y_values, title, y_label, text_coordinates):\n",
    "\n",
    "    # Run regression on hemisphere weather data.\n",
    "    (slope, intercept, r_value, p_value, std_err) = linregress(x_values, y_values)\n",
    "\n",
    "    # Calculate the regression line \"y values\" from the slope and intercept.\n",
    "    regress_values = x_values * slope + intercept\n",
    "    # Get the equation of the line.\n",
    "    line_eq = \"y = \" + str(round(slope,2)) + \"x + \" + str(round(intercept,2))\n",
    "    # Create a scatter plot and plot the regression line.\n",
    "    plt.scatter(x_values,y_values)\n",
    "    plt.plot(x_values,regress_values,\"r\")\n",
    "    # Annotate the text for the line equation.\n",
    "    plt.annotate(line_eq, text_coordinates, fontsize=15, color=\"red\")\n",
    "    plt.title(title)\n",
    "    plt.xlabel('Latitude')\n",
    "    plt.ylabel(y_label)\n",
    "    plt.show()"
   ]
  },
  {
   "cell_type": "code",
   "execution_count": 43,
   "id": "bfb8dfdc",
   "metadata": {},
   "outputs": [
    {
     "data": {
      "text/html": [
       "<div>\n",
       "<style scoped>\n",
       "    .dataframe tbody tr th:only-of-type {\n",
       "        vertical-align: middle;\n",
       "    }\n",
       "\n",
       "    .dataframe tbody tr th {\n",
       "        vertical-align: top;\n",
       "    }\n",
       "\n",
       "    .dataframe thead th {\n",
       "        text-align: right;\n",
       "    }\n",
       "</style>\n",
       "<table border=\"1\" class=\"dataframe\">\n",
       "  <thead>\n",
       "    <tr style=\"text-align: right;\">\n",
       "      <th></th>\n",
       "      <th>City</th>\n",
       "      <th>Lat</th>\n",
       "      <th>Lng</th>\n",
       "      <th>Max Temp</th>\n",
       "      <th>Humidity</th>\n",
       "      <th>Cloudiness</th>\n",
       "      <th>Wind Speed</th>\n",
       "      <th>Country</th>\n",
       "      <th>Date</th>\n",
       "    </tr>\n",
       "  </thead>\n",
       "  <tbody>\n",
       "    <tr>\n",
       "      <th>0</th>\n",
       "      <td>Cockburn Town</td>\n",
       "      <td>21.4612</td>\n",
       "      <td>-71.1419</td>\n",
       "      <td>83.61</td>\n",
       "      <td>76</td>\n",
       "      <td>21</td>\n",
       "      <td>18.86</td>\n",
       "      <td>TC</td>\n",
       "      <td>2022-09-16 13:42:04</td>\n",
       "    </tr>\n",
       "    <tr>\n",
       "      <th>1</th>\n",
       "      <td>Gat</td>\n",
       "      <td>31.6100</td>\n",
       "      <td>34.7642</td>\n",
       "      <td>92.39</td>\n",
       "      <td>22</td>\n",
       "      <td>0</td>\n",
       "      <td>14.00</td>\n",
       "      <td>IL</td>\n",
       "      <td>2022-09-16 13:42:05</td>\n",
       "    </tr>\n",
       "    <tr>\n",
       "      <th>2</th>\n",
       "      <td>Parvatsar</td>\n",
       "      <td>26.8833</td>\n",
       "      <td>74.7667</td>\n",
       "      <td>85.86</td>\n",
       "      <td>50</td>\n",
       "      <td>18</td>\n",
       "      <td>16.13</td>\n",
       "      <td>IN</td>\n",
       "      <td>2022-09-16 13:42:06</td>\n",
       "    </tr>\n",
       "    <tr>\n",
       "      <th>4</th>\n",
       "      <td>Saint George</td>\n",
       "      <td>37.1041</td>\n",
       "      <td>-113.5841</td>\n",
       "      <td>66.79</td>\n",
       "      <td>72</td>\n",
       "      <td>75</td>\n",
       "      <td>0.00</td>\n",
       "      <td>US</td>\n",
       "      <td>2022-09-16 13:42:04</td>\n",
       "    </tr>\n",
       "  </tbody>\n",
       "</table>\n",
       "</div>"
      ],
      "text/plain": [
       "            City      Lat       Lng  Max Temp  Humidity  Cloudiness  \\\n",
       "0  Cockburn Town  21.4612  -71.1419     83.61        76          21   \n",
       "1            Gat  31.6100   34.7642     92.39        22           0   \n",
       "2      Parvatsar  26.8833   74.7667     85.86        50          18   \n",
       "4   Saint George  37.1041 -113.5841     66.79        72          75   \n",
       "\n",
       "   Wind Speed Country                 Date  \n",
       "0       18.86      TC  2022-09-16 13:42:04  \n",
       "1       14.00      IL  2022-09-16 13:42:05  \n",
       "2       16.13      IN  2022-09-16 13:42:06  \n",
       "4        0.00      US  2022-09-16 13:42:04  "
      ]
     },
     "execution_count": 43,
     "metadata": {},
     "output_type": "execute_result"
    }
   ],
   "source": [
    "city_data_df.loc[(city_data_df[\"Lat\"] >= 0)]"
   ]
  },
  {
   "cell_type": "code",
   "execution_count": 44,
   "id": "28dc1cbd",
   "metadata": {},
   "outputs": [
    {
     "data": {
      "text/html": [
       "<div>\n",
       "<style scoped>\n",
       "    .dataframe tbody tr th:only-of-type {\n",
       "        vertical-align: middle;\n",
       "    }\n",
       "\n",
       "    .dataframe tbody tr th {\n",
       "        vertical-align: top;\n",
       "    }\n",
       "\n",
       "    .dataframe thead th {\n",
       "        text-align: right;\n",
       "    }\n",
       "</style>\n",
       "<table border=\"1\" class=\"dataframe\">\n",
       "  <thead>\n",
       "    <tr style=\"text-align: right;\">\n",
       "      <th></th>\n",
       "      <th>City</th>\n",
       "      <th>Lat</th>\n",
       "      <th>Lng</th>\n",
       "      <th>Max Temp</th>\n",
       "      <th>Humidity</th>\n",
       "      <th>Cloudiness</th>\n",
       "      <th>Wind Speed</th>\n",
       "      <th>Country</th>\n",
       "      <th>Date</th>\n",
       "    </tr>\n",
       "  </thead>\n",
       "  <tbody>\n",
       "    <tr>\n",
       "      <th>0</th>\n",
       "      <td>Cockburn Town</td>\n",
       "      <td>21.4612</td>\n",
       "      <td>-71.1419</td>\n",
       "      <td>83.61</td>\n",
       "      <td>76</td>\n",
       "      <td>21</td>\n",
       "      <td>18.86</td>\n",
       "      <td>TC</td>\n",
       "      <td>2022-09-16 13:42:04</td>\n",
       "    </tr>\n",
       "    <tr>\n",
       "      <th>1</th>\n",
       "      <td>Gat</td>\n",
       "      <td>31.6100</td>\n",
       "      <td>34.7642</td>\n",
       "      <td>92.39</td>\n",
       "      <td>22</td>\n",
       "      <td>0</td>\n",
       "      <td>14.00</td>\n",
       "      <td>IL</td>\n",
       "      <td>2022-09-16 13:42:05</td>\n",
       "    </tr>\n",
       "    <tr>\n",
       "      <th>2</th>\n",
       "      <td>Parvatsar</td>\n",
       "      <td>26.8833</td>\n",
       "      <td>74.7667</td>\n",
       "      <td>85.86</td>\n",
       "      <td>50</td>\n",
       "      <td>18</td>\n",
       "      <td>16.13</td>\n",
       "      <td>IN</td>\n",
       "      <td>2022-09-16 13:42:06</td>\n",
       "    </tr>\n",
       "    <tr>\n",
       "      <th>4</th>\n",
       "      <td>Saint George</td>\n",
       "      <td>37.1041</td>\n",
       "      <td>-113.5841</td>\n",
       "      <td>66.79</td>\n",
       "      <td>72</td>\n",
       "      <td>75</td>\n",
       "      <td>0.00</td>\n",
       "      <td>US</td>\n",
       "      <td>2022-09-16 13:42:04</td>\n",
       "    </tr>\n",
       "  </tbody>\n",
       "</table>\n",
       "</div>"
      ],
      "text/plain": [
       "            City      Lat       Lng  Max Temp  Humidity  Cloudiness  \\\n",
       "0  Cockburn Town  21.4612  -71.1419     83.61        76          21   \n",
       "1            Gat  31.6100   34.7642     92.39        22           0   \n",
       "2      Parvatsar  26.8833   74.7667     85.86        50          18   \n",
       "4   Saint George  37.1041 -113.5841     66.79        72          75   \n",
       "\n",
       "   Wind Speed Country                 Date  \n",
       "0       18.86      TC  2022-09-16 13:42:04  \n",
       "1       14.00      IL  2022-09-16 13:42:05  \n",
       "2       16.13      IN  2022-09-16 13:42:06  \n",
       "4        0.00      US  2022-09-16 13:42:04  "
      ]
     },
     "execution_count": 44,
     "metadata": {},
     "output_type": "execute_result"
    }
   ],
   "source": [
    "city_data_df.loc[(city_data_df[\"Lat\"] >= 0)].head()"
   ]
  },
  {
   "cell_type": "code",
   "execution_count": 45,
   "id": "fbb47ffb",
   "metadata": {},
   "outputs": [],
   "source": [
    "# Create Northern and Southern Hemisphere DataFrames.\n",
    "northern_hemi_df = city_data_df.loc[(city_data_df[\"Lat\"] >= 0)]\n",
    "southern_hemi_df = city_data_df.loc[(city_data_df[\"Lat\"] < 0)]"
   ]
  },
  {
   "cell_type": "code",
   "execution_count": 46,
   "id": "53eb4702",
   "metadata": {},
   "outputs": [
    {
     "data": {
      "image/png": "[encoded data removed]",
      "text/plain": [
       "<Figure size 432x288 with 1 Axes>"
      ]
     },
     "metadata": {
      "needs_background": "light"
     },
     "output_type": "display_data"
    }
   ],
   "source": [
    "# Linear regression on the Northern Hemisphere\n",
    "x_values = northern_hemi_df[\"Lat\"]\n",
    "y_values = northern_hemi_df[\"Max Temp\"]\n",
    "# Call the function.\n",
    "plot_linear_regression(x_values, y_values,\n",
    "                       'Linear Regression on the Northern Hemisphere \\\n",
    "                        for Maximum Temperature', 'Max Temp',(10,40))"
   ]
  },
  {
   "cell_type": "code",
   "execution_count": 47,
   "id": "97604c18",
   "metadata": {},
   "outputs": [
    {
     "name": "stderr",
     "output_type": "stream",
     "text": [
      "C:\\Users\\Homer\\anaconda3\\envs\\PythonData\\lib\\site-packages\\scipy\\stats\\_stats_mstats_common.py:170: RuntimeWarning: invalid value encountered in double_scalars\n",
      "  slope = ssxym / ssxm\n",
      "C:\\Users\\Homer\\anaconda3\\envs\\PythonData\\lib\\site-packages\\scipy\\stats\\_stats_mstats_common.py:184: RuntimeWarning: invalid value encountered in sqrt\n",
      "  t = r * np.sqrt(df / ((1.0 - r + TINY)*(1.0 + r + TINY)))\n",
      "C:\\Users\\Homer\\anaconda3\\envs\\PythonData\\lib\\site-packages\\scipy\\stats\\_stats_mstats_common.py:187: RuntimeWarning: invalid value encountered in double_scalars\n",
      "  slope_stderr = np.sqrt((1 - r**2) * ssym / ssxm / df)\n"
     ]
    },
    {
     "data": {
      "image/png": "[encoded data removed]",
      "text/plain": [
       "<Figure size 432x288 with 1 Axes>"
      ]
     },
     "metadata": {
      "needs_background": "light"
     },
     "output_type": "display_data"
    }
   ],
   "source": [
    "# Linear regression on the Southern Hemisphere\n",
    "x_values = southern_hemi_df[\"Lat\"]\n",
    "y_values = southern_hemi_df[\"Max Temp\"]\n",
    "# Call the function.\n",
    "plot_linear_regression(x_values, y_values,\n",
    "                       'Linear Regression on the Southern Hemisphere \\\n",
    "                        for Maximum Temperature', 'Max Temp',(-50,90))"
   ]
  },
  {
   "cell_type": "code",
   "execution_count": 48,
   "id": "a4f72ad5",
   "metadata": {},
   "outputs": [
    {
     "data": {
      "image/png": "[encoded data removed]",
      "text/plain": [
       "<Figure size 432x288 with 1 Axes>"
      ]
     },
     "metadata": {
      "needs_background": "light"
     },
     "output_type": "display_data"
    }
   ],
   "source": [
    "#6.4.3\n",
    "# Linear regression on the Northern Hemisphere\n",
    "x_values = northern_hemi_df[\"Lat\"]\n",
    "y_values = northern_hemi_df[\"Humidity\"]\n",
    "# Call the function.\n",
    "plot_linear_regression(x_values, y_values,\n",
    "                       'Linear Regression on the Northern Hemisphere \\\n",
    "                        for % Humidity', '% Humidity',(40,10))"
   ]
  },
  {
   "cell_type": "code",
   "execution_count": 49,
   "id": "a49add8b",
   "metadata": {},
   "outputs": [
    {
     "name": "stderr",
     "output_type": "stream",
     "text": [
      "C:\\Users\\Homer\\anaconda3\\envs\\PythonData\\lib\\site-packages\\scipy\\stats\\_stats_mstats_common.py:170: RuntimeWarning: invalid value encountered in double_scalars\n",
      "  slope = ssxym / ssxm\n",
      "C:\\Users\\Homer\\anaconda3\\envs\\PythonData\\lib\\site-packages\\scipy\\stats\\_stats_mstats_common.py:184: RuntimeWarning: invalid value encountered in sqrt\n",
      "  t = r * np.sqrt(df / ((1.0 - r + TINY)*(1.0 + r + TINY)))\n",
      "C:\\Users\\Homer\\anaconda3\\envs\\PythonData\\lib\\site-packages\\scipy\\stats\\_stats_mstats_common.py:187: RuntimeWarning: invalid value encountered in double_scalars\n",
      "  slope_stderr = np.sqrt((1 - r**2) * ssym / ssxm / df)\n"
     ]
    },
    {
     "data": {
      "image/png": "[encoded data removed]",
      "text/plain": [
       "<Figure size 432x288 with 1 Axes>"
      ]
     },
     "metadata": {
      "needs_background": "light"
     },
     "output_type": "display_data"
    }
   ],
   "source": [
    "# Linear regression on the Southern Hemisphere\n",
    "x_values = southern_hemi_df[\"Lat\"]\n",
    "y_values = southern_hemi_df[\"Humidity\"]\n",
    "# Call the function.\n",
    "plot_linear_regression(x_values, y_values,\n",
    "                       'Linear Regression on the Southern Hemisphere \\\n",
    "                        for % Humidity', '% Humidity',(-50,15))"
   ]
  },
  {
   "cell_type": "code",
   "execution_count": 50,
   "id": "47b6b71b",
   "metadata": {},
   "outputs": [
    {
     "name": "stderr",
     "output_type": "stream",
     "text": [
      "C:\\Users\\Homer\\anaconda3\\envs\\PythonData\\lib\\site-packages\\scipy\\stats\\_stats_mstats_common.py:170: RuntimeWarning: invalid value encountered in double_scalars\n",
      "  slope = ssxym / ssxm\n",
      "C:\\Users\\Homer\\anaconda3\\envs\\PythonData\\lib\\site-packages\\scipy\\stats\\_stats_mstats_common.py:184: RuntimeWarning: invalid value encountered in sqrt\n",
      "  t = r * np.sqrt(df / ((1.0 - r + TINY)*(1.0 + r + TINY)))\n",
      "C:\\Users\\Homer\\anaconda3\\envs\\PythonData\\lib\\site-packages\\scipy\\stats\\_stats_mstats_common.py:187: RuntimeWarning: invalid value encountered in double_scalars\n",
      "  slope_stderr = np.sqrt((1 - r**2) * ssym / ssxm / df)\n"
     ]
    },
    {
     "data": {
      "image/png": "[encoded data removed]",
      "text/plain": [
       "<Figure size 432x288 with 1 Axes>"
      ]
     },
     "metadata": {
      "needs_background": "light"
     },
     "output_type": "display_data"
    }
   ],
   "source": [
    "# Linear regression on the Southern Hemisphere\n",
    "x_values = southern_hemi_df[\"Lat\"]\n",
    "y_values = southern_hemi_df[\"Cloudiness\"]\n",
    "# Call the function.\n",
    "plot_linear_regression(x_values, y_values,\n",
    "                       'Linear Regression on the Southern Hemisphere \\\n",
    "                        for % Cloudiness', '% Cloudiness',(-50,60))"
   ]
  },
  {
   "cell_type": "code",
   "execution_count": 51,
   "id": "f56b1017",
   "metadata": {},
   "outputs": [
    {
     "data": {
      "image/png": "[encoded data removed]",
      "text/plain": [
       "<Figure size 432x288 with 1 Axes>"
      ]
     },
     "metadata": {
      "needs_background": "light"
     },
     "output_type": "display_data"
    }
   ],
   "source": [
    "#6.4.5\n",
    "# Linear regression on the Northern Hemisphere\n",
    "x_values = northern_hemi_df[\"Lat\"]\n",
    "y_values = northern_hemi_df[\"Wind Speed\"]\n",
    "# Call the function.\n",
    "plot_linear_regression(x_values, y_values,\n",
    "                       'Linear Regression on the Northern Hemisphere \\\n",
    "                        for Wind Speed', 'Wind Speed',(40,35))"
   ]
  },
  {
   "cell_type": "code",
   "execution_count": 52,
   "id": "1c56256c",
   "metadata": {},
   "outputs": [
    {
     "name": "stderr",
     "output_type": "stream",
     "text": [
      "C:\\Users\\Homer\\anaconda3\\envs\\PythonData\\lib\\site-packages\\scipy\\stats\\_stats_mstats_common.py:170: RuntimeWarning: invalid value encountered in double_scalars\n",
      "  slope = ssxym / ssxm\n",
      "C:\\Users\\Homer\\anaconda3\\envs\\PythonData\\lib\\site-packages\\scipy\\stats\\_stats_mstats_common.py:184: RuntimeWarning: invalid value encountered in sqrt\n",
      "  t = r * np.sqrt(df / ((1.0 - r + TINY)*(1.0 + r + TINY)))\n",
      "C:\\Users\\Homer\\anaconda3\\envs\\PythonData\\lib\\site-packages\\scipy\\stats\\_stats_mstats_common.py:187: RuntimeWarning: invalid value encountered in double_scalars\n",
      "  slope_stderr = np.sqrt((1 - r**2) * ssym / ssxm / df)\n"
     ]
    },
    {
     "data": {
      "image/png": "[encoded data removed]",
      "text/plain": [
       "<Figure size 432x288 with 1 Axes>"
      ]
     },
     "metadata": {
      "needs_background": "light"
     },
     "output_type": "display_data"
    }
   ],
   "source": [
    "# Linear regression on the Southern Hemisphere\n",
    "x_values = southern_hemi_df[\"Lat\"]\n",
    "y_values = southern_hemi_df[\"Wind Speed\"]\n",
    "# Call the function.\n",
    "plot_linear_regression(x_values, y_values,\n",
    "                       'Linear Regression on the Southern Hemisphere \\\n",
    "                        for Wind Speed', 'Wind Speed',(-50,35))"
   ]
  },
  {
   "cell_type": "code",
   "execution_count": 53,
   "id": "1bddf588",
   "metadata": {},
   "outputs": [],
   "source": [
    "#6.5.1\n",
    "# See Module (got an api key from google, installed extensions through anaconda)\n",
    "\n",
    "#6.5.2\n",
    "# Import the dependencies.\n",
    "import pandas as pd\n",
    "import gmaps\n",
    "import requests\n",
    "# Import the API key.\n",
    "from config import g_key"
   ]
  },
  {
   "cell_type": "code",
   "execution_count": 54,
   "id": "ca88acea",
   "metadata": {},
   "outputs": [
    {
     "data": {
      "text/html": [
       "<div>\n",
       "<style scoped>\n",
       "    .dataframe tbody tr th:only-of-type {\n",
       "        vertical-align: middle;\n",
       "    }\n",
       "\n",
       "    .dataframe tbody tr th {\n",
       "        vertical-align: top;\n",
       "    }\n",
       "\n",
       "    .dataframe thead th {\n",
       "        text-align: right;\n",
       "    }\n",
       "</style>\n",
       "<table border=\"1\" class=\"dataframe\">\n",
       "  <thead>\n",
       "    <tr style=\"text-align: right;\">\n",
       "      <th></th>\n",
       "      <th>City_ID</th>\n",
       "      <th>City</th>\n",
       "      <th>Lat</th>\n",
       "      <th>Lng</th>\n",
       "      <th>Max Temp</th>\n",
       "      <th>Humidity</th>\n",
       "      <th>Cloudiness</th>\n",
       "      <th>Wind Speed</th>\n",
       "      <th>Country</th>\n",
       "      <th>Date</th>\n",
       "    </tr>\n",
       "  </thead>\n",
       "  <tbody>\n",
       "    <tr>\n",
       "      <th>0</th>\n",
       "      <td>0</td>\n",
       "      <td>Cockburn Town</td>\n",
       "      <td>21.4612</td>\n",
       "      <td>-71.1419</td>\n",
       "      <td>83.61</td>\n",
       "      <td>76</td>\n",
       "      <td>21</td>\n",
       "      <td>18.86</td>\n",
       "      <td>TC</td>\n",
       "      <td>2022-09-16 13:42:04</td>\n",
       "    </tr>\n",
       "    <tr>\n",
       "      <th>1</th>\n",
       "      <td>1</td>\n",
       "      <td>Gat</td>\n",
       "      <td>31.6100</td>\n",
       "      <td>34.7642</td>\n",
       "      <td>92.39</td>\n",
       "      <td>22</td>\n",
       "      <td>0</td>\n",
       "      <td>14.00</td>\n",
       "      <td>IL</td>\n",
       "      <td>2022-09-16 13:42:05</td>\n",
       "    </tr>\n",
       "    <tr>\n",
       "      <th>2</th>\n",
       "      <td>2</td>\n",
       "      <td>Parvatsar</td>\n",
       "      <td>26.8833</td>\n",
       "      <td>74.7667</td>\n",
       "      <td>85.86</td>\n",
       "      <td>50</td>\n",
       "      <td>18</td>\n",
       "      <td>16.13</td>\n",
       "      <td>IN</td>\n",
       "      <td>2022-09-16 13:42:06</td>\n",
       "    </tr>\n",
       "    <tr>\n",
       "      <th>3</th>\n",
       "      <td>3</td>\n",
       "      <td>Punta Arenas</td>\n",
       "      <td>-53.1500</td>\n",
       "      <td>-70.9167</td>\n",
       "      <td>37.51</td>\n",
       "      <td>70</td>\n",
       "      <td>40</td>\n",
       "      <td>11.50</td>\n",
       "      <td>CL</td>\n",
       "      <td>2022-09-16 13:42:06</td>\n",
       "    </tr>\n",
       "    <tr>\n",
       "      <th>4</th>\n",
       "      <td>4</td>\n",
       "      <td>Saint George</td>\n",
       "      <td>37.1041</td>\n",
       "      <td>-113.5841</td>\n",
       "      <td>66.79</td>\n",
       "      <td>72</td>\n",
       "      <td>75</td>\n",
       "      <td>0.00</td>\n",
       "      <td>US</td>\n",
       "      <td>2022-09-16 13:42:04</td>\n",
       "    </tr>\n",
       "  </tbody>\n",
       "</table>\n",
       "</div>"
      ],
      "text/plain": [
       "   City_ID           City      Lat       Lng  Max Temp  Humidity  Cloudiness  \\\n",
       "0        0  Cockburn Town  21.4612  -71.1419     83.61        76          21   \n",
       "1        1            Gat  31.6100   34.7642     92.39        22           0   \n",
       "2        2      Parvatsar  26.8833   74.7667     85.86        50          18   \n",
       "3        3   Punta Arenas -53.1500  -70.9167     37.51        70          40   \n",
       "4        4   Saint George  37.1041 -113.5841     66.79        72          75   \n",
       "\n",
       "   Wind Speed Country                 Date  \n",
       "0       18.86      TC  2022-09-16 13:42:04  \n",
       "1       14.00      IL  2022-09-16 13:42:05  \n",
       "2       16.13      IN  2022-09-16 13:42:06  \n",
       "3       11.50      CL  2022-09-16 13:42:06  \n",
       "4        0.00      US  2022-09-16 13:42:04  "
      ]
     },
     "execution_count": 54,
     "metadata": {},
     "output_type": "execute_result"
    }
   ],
   "source": [
    "# Store the CSV you saved created in part one into a DataFrame.\n",
    "city_data_df = pd.read_csv(\"weather_data/cities.csv\")\n",
    "city_data_df.head()"
   ]
  },
  {
   "cell_type": "code",
   "execution_count": 55,
   "id": "a22bf105",
   "metadata": {},
   "outputs": [],
   "source": [
    "# Configure gmaps to use your Google API key.\n",
    "gmaps.configure(api_key=g_key)"
   ]
  },
  {
   "cell_type": "code",
   "execution_count": 59,
   "id": "10476c22",
   "metadata": {},
   "outputs": [
    {
     "data": {
      "application/vnd.jupyter.widget-view+json": {
       "model_id": "457c596b717c4197a3e2324e1df731bb",
       "version_major": 2,
       "version_minor": 0
      },
      "text/plain": [
       "Figure(layout=FigureLayout(height='420px'))"
      ]
     },
     "metadata": {},
     "output_type": "display_data"
    }
   ],
   "source": [
    "# Heatmap of temperature\n",
    "# Get the latitude and longitude.\n",
    "locations = city_data_df[[\"Lat\", \"Lng\"]]\n",
    "# Get the maximum temperature.\n",
    "max_temp = city_data_df[\"Max Temp\"]\n",
    "temps = []\n",
    "for temp in max_temp:\n",
    "    temps.append(max(temp, 0))\n",
    "# Assign the figure variable.\n",
    "fig = gmaps.figure()\n",
    "# Assign the heatmap variable.\n",
    "heat_layer = gmaps.heatmap_layer(locations, weights=max_temp)\n",
    "# Add the heatmap layer.\n",
    "fig.add_layer(heat_layer)\n",
    "# Call the figure to plot the data.\n",
    "fig\n",
    "\n",
    "# No Map shown. "
   ]
  },
  {
   "cell_type": "code",
   "execution_count": 60,
   "id": "a2cdca50",
   "metadata": {},
   "outputs": [
    {
     "name": "stdout",
     "output_type": "stream",
     "text": [
      "What is the minimum temperature you would like for your trip? 75\n",
      "What is the maximum temperature you would like for your trip? 90\n"
     ]
    }
   ],
   "source": [
    "#6.5.3\n",
    "# Ask the customer to add a minimum and maximum temperature value.\n",
    "min_temp = float(input(\"What is the minimum temperature you would like for your trip? \"))\n",
    "max_temp = float(input(\"What is the maximum temperature you would like for your trip? \"))"
   ]
  },
  {
   "cell_type": "code",
   "execution_count": 61,
   "id": "449965c7",
   "metadata": {},
   "outputs": [
    {
     "data": {
      "text/html": [
       "<div>\n",
       "<style scoped>\n",
       "    .dataframe tbody tr th:only-of-type {\n",
       "        vertical-align: middle;\n",
       "    }\n",
       "\n",
       "    .dataframe tbody tr th {\n",
       "        vertical-align: top;\n",
       "    }\n",
       "\n",
       "    .dataframe thead th {\n",
       "        text-align: right;\n",
       "    }\n",
       "</style>\n",
       "<table border=\"1\" class=\"dataframe\">\n",
       "  <thead>\n",
       "    <tr style=\"text-align: right;\">\n",
       "      <th></th>\n",
       "      <th>City_ID</th>\n",
       "      <th>City</th>\n",
       "      <th>Lat</th>\n",
       "      <th>Lng</th>\n",
       "      <th>Max Temp</th>\n",
       "      <th>Humidity</th>\n",
       "      <th>Cloudiness</th>\n",
       "      <th>Wind Speed</th>\n",
       "      <th>Country</th>\n",
       "      <th>Date</th>\n",
       "    </tr>\n",
       "  </thead>\n",
       "  <tbody>\n",
       "    <tr>\n",
       "      <th>0</th>\n",
       "      <td>0</td>\n",
       "      <td>Cockburn Town</td>\n",
       "      <td>21.4612</td>\n",
       "      <td>-71.1419</td>\n",
       "      <td>83.61</td>\n",
       "      <td>76</td>\n",
       "      <td>21</td>\n",
       "      <td>18.86</td>\n",
       "      <td>TC</td>\n",
       "      <td>2022-09-16 13:42:04</td>\n",
       "    </tr>\n",
       "    <tr>\n",
       "      <th>2</th>\n",
       "      <td>2</td>\n",
       "      <td>Parvatsar</td>\n",
       "      <td>26.8833</td>\n",
       "      <td>74.7667</td>\n",
       "      <td>85.86</td>\n",
       "      <td>50</td>\n",
       "      <td>18</td>\n",
       "      <td>16.13</td>\n",
       "      <td>IN</td>\n",
       "      <td>2022-09-16 13:42:06</td>\n",
       "    </tr>\n",
       "  </tbody>\n",
       "</table>\n",
       "</div>"
      ],
      "text/plain": [
       "   City_ID           City      Lat      Lng  Max Temp  Humidity  Cloudiness  \\\n",
       "0        0  Cockburn Town  21.4612 -71.1419     83.61        76          21   \n",
       "2        2      Parvatsar  26.8833  74.7667     85.86        50          18   \n",
       "\n",
       "   Wind Speed Country                 Date  \n",
       "0       18.86      TC  2022-09-16 13:42:04  \n",
       "2       16.13      IN  2022-09-16 13:42:06  "
      ]
     },
     "execution_count": 61,
     "metadata": {},
     "output_type": "execute_result"
    }
   ],
   "source": [
    "# Filter the dataset to find the cities that fit the criteria.\n",
    "preferred_cities_df = city_data_df.loc[(city_data_df[\"Max Temp\"] <= max_temp) & \\\n",
    "                                       (city_data_df[\"Max Temp\"] >= min_temp)]\n",
    "preferred_cities_df.head(10)"
   ]
  },
  {
   "cell_type": "code",
   "execution_count": 62,
   "id": "c8a9532d",
   "metadata": {},
   "outputs": [
    {
     "data": {
      "text/html": [
       "<div>\n",
       "<style scoped>\n",
       "    .dataframe tbody tr th:only-of-type {\n",
       "        vertical-align: middle;\n",
       "    }\n",
       "\n",
       "    .dataframe tbody tr th {\n",
       "        vertical-align: top;\n",
       "    }\n",
       "\n",
       "    .dataframe thead th {\n",
       "        text-align: right;\n",
       "    }\n",
       "</style>\n",
       "<table border=\"1\" class=\"dataframe\">\n",
       "  <thead>\n",
       "    <tr style=\"text-align: right;\">\n",
       "      <th></th>\n",
       "      <th>City</th>\n",
       "      <th>Country</th>\n",
       "      <th>Max Temp</th>\n",
       "      <th>Lat</th>\n",
       "      <th>Lng</th>\n",
       "      <th>Hotel Name</th>\n",
       "    </tr>\n",
       "  </thead>\n",
       "  <tbody>\n",
       "    <tr>\n",
       "      <th>0</th>\n",
       "      <td>Cockburn Town</td>\n",
       "      <td>TC</td>\n",
       "      <td>83.61</td>\n",
       "      <td>21.4612</td>\n",
       "      <td>-71.1419</td>\n",
       "      <td></td>\n",
       "    </tr>\n",
       "    <tr>\n",
       "      <th>2</th>\n",
       "      <td>Parvatsar</td>\n",
       "      <td>IN</td>\n",
       "      <td>85.86</td>\n",
       "      <td>26.8833</td>\n",
       "      <td>74.7667</td>\n",
       "      <td></td>\n",
       "    </tr>\n",
       "  </tbody>\n",
       "</table>\n",
       "</div>"
      ],
      "text/plain": [
       "            City Country  Max Temp      Lat      Lng Hotel Name\n",
       "0  Cockburn Town      TC     83.61  21.4612 -71.1419           \n",
       "2      Parvatsar      IN     85.86  26.8833  74.7667           "
      ]
     },
     "execution_count": 62,
     "metadata": {},
     "output_type": "execute_result"
    }
   ],
   "source": [
    "#6.5.4\n",
    "# Create DataFrame called hotel_df to store hotel names along with city, country, max temp, and coordinates.\n",
    "hotel_df = preferred_cities_df[[\"City\", \"Country\", \"Max Temp\", \"Lat\", \"Lng\"]].copy()\n",
    "hotel_df[\"Hotel Name\"] = \"\"\n",
    "hotel_df.head(10)"
   ]
  },
  {
   "cell_type": "code",
   "execution_count": 63,
   "id": "57067211",
   "metadata": {},
   "outputs": [],
   "source": [
    "# Set parameters to search for a hotel.\n",
    "params = {\n",
    "    \"radius\": 5000,\n",
    "    \"type\": \"lodging\",\n",
    "    \"key\": g_key\n",
    "}"
   ]
  },
  {
   "cell_type": "code",
   "execution_count": 64,
   "id": "c028d9c8",
   "metadata": {},
   "outputs": [],
   "source": [
    "# Dependencies and Setup\n",
    "import requests\n",
    "import gmaps\n",
    "\n",
    "# Import API key\n",
    "from config import g_key"
   ]
  },
  {
   "cell_type": "code",
   "execution_count": 65,
   "id": "3e03cf28",
   "metadata": {},
   "outputs": [
    {
     "data": {
      "text/plain": [
       "{'html_attributions': [],\n",
       " 'next_page_token': 'AcYSjRjC-wZBbrdsm45f7PjrtScjKvpr5f7zvuGAL25FEB90MSEPgxCd5Goal4pPegOrk4ef3mGbUADw96IXMnQY6muEd_QanKhH5yiHpzbjdEq99wknxPJrepjxX93hA5BUefoI2Yk_BHJzWrJPDU2GJCf3MUA1rnqQVooENTmXaSTSYxS08jdc5uXsA9iadPlJwpl-_b0TsmaVt3ykdOZd7VstELJSKt2glivuVa7pDyOlDTrFeo0P_t7MEWi1wfkvj26J9f_cStZiBYAwult2RQHyYcK6_9xLMhWOXAC42xmRPlXHfP-x5EjgXt4tBZD1An7Ce2b2-37cHjI98jRkvPvUeSvp6savkmXu1ktLH5SC67fZ_C5d5j0rijKz0ri3WKXCZ5msnpZBtIPmddC_el0eHy-hnPRCP32e4Jc36TskGs7knGl7yJKJ',\n",
       " 'results': [{'business_status': 'OPERATIONAL',\n",
       "   'geometry': {'location': {'lat': 48.8581126, 'lng': 2.3529277},\n",
       "    'viewport': {'northeast': {'lat': 48.8594360302915,\n",
       "      'lng': 2.354355480291502},\n",
       "     'southwest': {'lat': 48.8567380697085, 'lng': 2.351657519708498}}},\n",
       "   'icon': 'https://maps.gstatic.com/mapfiles/place_api/icons/v1/png_71/lodging-71.png',\n",
       "   'icon_background_color': '#909CE1',\n",
       "   'icon_mask_base_uri': 'https://maps.gstatic.com/mapfiles/place_api/icons/v2/hotel_pinlet',\n",
       "   'name': 'Hôtel Duo',\n",
       "   'opening_hours': {'open_now': True},\n",
       "   'photos': [{'height': 3840,\n",
       "     'html_attributions': ['<a href=\"https://maps.google.com/maps/contrib/107554201425443337224\">Hôtel Duo</a>'],\n",
       "     'photo_reference': 'AcYSjRi3bR3J-WIy5LAy5gpCHNOuUt5vzrzPCJUTKX0qwHoDv9OVCPDHDlSKDQ54FQdFTB4ldEF9NnzAF6VZ9EVwUxTZxviYPsDBndbaSXl0NNvFCsSIDJk3FiaRwO7rip44_HEtIKcUH_KiYAB9-KgZonHP016_oieBDDfqOQxDpk69KW_W',\n",
       "     'width': 5760}],\n",
       "   'place_id': 'ChIJWU9CqB1u5kcR5P1F2SMoJmc',\n",
       "   'plus_code': {'compound_code': 'V953+65 Paris, France',\n",
       "    'global_code': '8FW4V953+65'},\n",
       "   'rating': 4.2,\n",
       "   'reference': 'ChIJWU9CqB1u5kcR5P1F2SMoJmc',\n",
       "   'scope': 'GOOGLE',\n",
       "   'types': ['night_club',\n",
       "    'gym',\n",
       "    'spa',\n",
       "    'lodging',\n",
       "    'health',\n",
       "    'bar',\n",
       "    'point_of_interest',\n",
       "    'establishment'],\n",
       "   'user_ratings_total': 341,\n",
       "   'vicinity': '11 Rue du Temple, Paris'},\n",
       "  {'business_status': 'OPERATIONAL',\n",
       "   'geometry': {'location': {'lat': 48.8582861, 'lng': 2.3464944},\n",
       "    'viewport': {'northeast': {'lat': 48.85954748029151,\n",
       "      'lng': 2.347782830291502},\n",
       "     'southwest': {'lat': 48.85684951970851, 'lng': 2.345084869708498}}},\n",
       "   'icon': 'https://maps.gstatic.com/mapfiles/place_api/icons/v1/png_71/lodging-71.png',\n",
       "   'icon_background_color': '#909CE1',\n",
       "   'icon_mask_base_uri': 'https://maps.gstatic.com/mapfiles/place_api/icons/v2/hotel_pinlet',\n",
       "   'name': 'Britannique Hotel - Paris Centre',\n",
       "   'opening_hours': {'open_now': True},\n",
       "   'photos': [{'height': 1426,\n",
       "     'html_attributions': ['<a href=\"https://maps.google.com/maps/contrib/108984000175492464929\">Hôtel Britannique - Paris Centre</a>'],\n",
       "     'photo_reference': 'AcYSjRjw1VKmq0SGO5i66A8vOTf6Po-7foEidhMS3du-5CAPhh_wNJLjs06jgTNKLb-JnKbR3X-015sWdwBYT_7E2gjG6I7oluFSwOQL0D6pFb2wCWtLLOaNUV4M4SOp-wFBJoxTDF-q7KX1XBgiG_FFq08yGbWhwlijAsR1LljkMUp_kia1',\n",
       "     'width': 1476}],\n",
       "   'place_id': 'ChIJ-4Siox9u5kcRm9vM6DcMXyU',\n",
       "   'plus_code': {'compound_code': 'V85W+8H Paris, France',\n",
       "    'global_code': '8FW4V85W+8H'},\n",
       "   'rating': 4.7,\n",
       "   'reference': 'ChIJ-4Siox9u5kcRm9vM6DcMXyU',\n",
       "   'scope': 'GOOGLE',\n",
       "   'types': ['lodging', 'point_of_interest', 'establishment'],\n",
       "   'user_ratings_total': 734,\n",
       "   'vicinity': '20 Avenue Victoria, Paris'},\n",
       "  {'business_status': 'OPERATIONAL',\n",
       "   'geometry': {'location': {'lat': 48.8606342, 'lng': 2.3468978},\n",
       "    'viewport': {'northeast': {'lat': 48.8617746302915,\n",
       "      'lng': 2.347927730291502},\n",
       "     'southwest': {'lat': 48.8590766697085, 'lng': 2.345229769708499}}},\n",
       "   'icon': 'https://maps.gstatic.com/mapfiles/place_api/icons/v1/png_71/lodging-71.png',\n",
       "   'icon_background_color': '#909CE1',\n",
       "   'icon_mask_base_uri': 'https://maps.gstatic.com/mapfiles/place_api/icons/v2/hotel_pinlet',\n",
       "   'name': 'Citadines Les Halles Paris',\n",
       "   'opening_hours': {'open_now': True},\n",
       "   'photos': [{'height': 853,\n",
       "     'html_attributions': ['<a href=\"https://maps.google.com/maps/contrib/102565262508115704337\">Citadines Apart&#39;hotel Les Halles Paris</a>'],\n",
       "     'photo_reference': 'AcYSjRgdLT0vgDXtwdbky3bmMhjtn4bzBtVIh26fAIjoY1Q4n61Epfg73a0Mv-Qulc6OiXve3ofmVgDcmsDfp6It14ahgOtSxNvQBEm5Cho6yQG288GkvEusbs6O8VUMiDOKpe0I9ZpXCHkumDHPNWVcLcQYWdWUpkBYSB-MoY6oET9A5E5l',\n",
       "     'width': 1280}],\n",
       "   'place_id': 'ChIJQ_QDrxhu5kcRJzNxLLEOSfU',\n",
       "   'plus_code': {'compound_code': 'V86W+7Q Paris, France',\n",
       "    'global_code': '8FW4V86W+7Q'},\n",
       "   'rating': 4.1,\n",
       "   'reference': 'ChIJQ_QDrxhu5kcRJzNxLLEOSfU',\n",
       "   'scope': 'GOOGLE',\n",
       "   'types': ['city_hall',\n",
       "    'lodging',\n",
       "    'point_of_interest',\n",
       "    'local_government_office',\n",
       "    'establishment'],\n",
       "   'user_ratings_total': 941,\n",
       "   'vicinity': '4 Rue des Innocents, Paris'},\n",
       "  {'business_status': 'OPERATIONAL',\n",
       "   'geometry': {'location': {'lat': 48.8607658, 'lng': 2.3465318},\n",
       "    'viewport': {'northeast': {'lat': 48.8620584302915,\n",
       "      'lng': 2.347692880291501},\n",
       "     'southwest': {'lat': 48.85936046970851, 'lng': 2.344994919708498}}},\n",
       "   'icon': 'https://maps.gstatic.com/mapfiles/place_api/icons/v1/png_71/lodging-71.png',\n",
       "   'icon_background_color': '#909CE1',\n",
       "   'icon_mask_base_uri': 'https://maps.gstatic.com/mapfiles/place_api/icons/v2/hotel_pinlet',\n",
       "   'name': 'Novotel Paris Les Halles',\n",
       "   'photos': [{'height': 2000,\n",
       "     'html_attributions': ['<a href=\"https://maps.google.com/maps/contrib/111815616573299411056\">Novotel Paris Les Halles</a>'],\n",
       "     'photo_reference': 'AcYSjRhHZBz9CWj8E81WMiXVRef4y8u81hYEQvlDlZdWt9btnG0Ip8yuWZ0Il18CxbdhG-i3Dvn2g8PGMJ1oP1LzZbAt67GoS8GIAbAC4LgErsjxVl2pi4nJQXQ7kgC4dVK6w1dSt-DtgpFKzaCguegEnOIxYW-G3GSgk61x-CRqWJVzspC_',\n",
       "     'width': 3000}],\n",
       "   'place_id': 'ChIJGW2pNx9u5kcRI3oyL8NG5BQ',\n",
       "   'plus_code': {'compound_code': 'V86W+8J Paris, France',\n",
       "    'global_code': '8FW4V86W+8J'},\n",
       "   'rating': 4.4,\n",
       "   'reference': 'ChIJGW2pNx9u5kcRI3oyL8NG5BQ',\n",
       "   'scope': 'GOOGLE',\n",
       "   'types': ['lodging', 'point_of_interest', 'establishment'],\n",
       "   'user_ratings_total': 2649,\n",
       "   'vicinity': '8 Place Marguerite de Navarre, Paris'},\n",
       "  {'business_status': 'OPERATIONAL',\n",
       "   'geometry': {'location': {'lat': 48.860352, 'lng': 2.3440948},\n",
       "    'viewport': {'northeast': {'lat': 48.86165553029149,\n",
       "      'lng': 2.345549080291502},\n",
       "     'southwest': {'lat': 48.8589575697085, 'lng': 2.342851119708498}}},\n",
       "   'icon': 'https://maps.gstatic.com/mapfiles/place_api/icons/v1/png_71/lodging-71.png',\n",
       "   'icon_background_color': '#909CE1',\n",
       "   'icon_mask_base_uri': 'https://maps.gstatic.com/mapfiles/place_api/icons/v2/hotel_pinlet',\n",
       "   'name': 'Hôtel Ducs de Bourgogne',\n",
       "   'opening_hours': {'open_now': True},\n",
       "   'photos': [{'height': 1390,\n",
       "     'html_attributions': ['<a href=\"https://maps.google.com/maps/contrib/101411638353598558320\">Hôtel Ducs de Bourgogne</a>'],\n",
       "     'photo_reference': 'AcYSjRhvrjHPs2UkRN3RMxf544PTYGv1TQwnYPjWq5bo-6FaJFG8zUvwMXOoHQ8GDqTMOW_BlwELpKKpRvzVi3JgsHQz_IjPV1ZqCkQNbXmXEfEBfsA_x4h0XQf9xTyeWIh376NTHY9AqmwOpLFBAglAKJvd_zOguwVj_Ua1wWk7W6cer1go',\n",
       "     'width': 2048}],\n",
       "   'place_id': 'ChIJifTG5yFu5kcRdnisbwxnAx4',\n",
       "   'plus_code': {'compound_code': 'V86V+4J Paris, France',\n",
       "    'global_code': '8FW4V86V+4J'},\n",
       "   'rating': 4.5,\n",
       "   'reference': 'ChIJifTG5yFu5kcRdnisbwxnAx4',\n",
       "   'scope': 'GOOGLE',\n",
       "   'types': ['lodging', 'point_of_interest', 'establishment'],\n",
       "   'user_ratings_total': 315,\n",
       "   'vicinity': '19 Rue du Pont Neuf, Paris'},\n",
       "  {'business_status': 'OPERATIONAL',\n",
       "   'geometry': {'location': {'lat': 48.8555091, 'lng': 2.3408736},\n",
       "    'viewport': {'northeast': {'lat': 48.8569076302915,\n",
       "      'lng': 2.342319280291502},\n",
       "     'southwest': {'lat': 48.8542096697085, 'lng': 2.339621319708498}}},\n",
       "   'icon': 'https://maps.gstatic.com/mapfiles/place_api/icons/v1/png_71/lodging-71.png',\n",
       "   'icon_background_color': '#909CE1',\n",
       "   'icon_mask_base_uri': 'https://maps.gstatic.com/mapfiles/place_api/icons/v2/hotel_pinlet',\n",
       "   'name': 'Citadines Saint-Germain-des-Prés Paris (Apart hotel Paris)',\n",
       "   'opening_hours': {'open_now': True},\n",
       "   'photos': [{'height': 4480,\n",
       "     'html_attributions': ['<a href=\"https://maps.google.com/maps/contrib/113188832595116816387\">Citadines Saint-Germain-des-Prés Paris (Apart Hotel Paris)</a>'],\n",
       "     'photo_reference': 'AcYSjRjl2ZiwwH3qHewX2gw0MmTkEYFAIvZN0JmCEyyjL6KEy52nGoScxkJ0yVasxp1U5tlH9KnKnn7393h3S9aJa2XT9NurwMW1wUpPAqC1uPQH99647CyXAwZNwtIZ_vDTJ8eIY0fjrH1Cog6Nk073fhJjd0e2h5LgNkJhoqsGWQpMXBy8',\n",
       "     'width': 6720}],\n",
       "   'place_id': 'ChIJo5pYcN9x5kcRERXdocMgqmE',\n",
       "   'plus_code': {'compound_code': 'V84R+68 Paris, France',\n",
       "    'global_code': '8FW4V84R+68'},\n",
       "   'rating': 4.3,\n",
       "   'reference': 'ChIJo5pYcN9x5kcRERXdocMgqmE',\n",
       "   'scope': 'GOOGLE',\n",
       "   'types': ['city_hall',\n",
       "    'lodging',\n",
       "    'point_of_interest',\n",
       "    'local_government_office',\n",
       "    'establishment'],\n",
       "   'user_ratings_total': 758,\n",
       "   'vicinity': '53 ter Quai des Grands Augustins, Paris'},\n",
       "  {'business_status': 'OPERATIONAL',\n",
       "   'geometry': {'location': {'lat': 48.8524547, 'lng': 2.3472064},\n",
       "    'viewport': {'northeast': {'lat': 48.8538838802915,\n",
       "      'lng': 2.348601530291502},\n",
       "     'southwest': {'lat': 48.8511859197085, 'lng': 2.345903569708498}}},\n",
       "   'icon': 'https://maps.gstatic.com/mapfiles/place_api/icons/v1/png_71/lodging-71.png',\n",
       "   'icon_background_color': '#909CE1',\n",
       "   'icon_mask_base_uri': 'https://maps.gstatic.com/mapfiles/place_api/icons/v2/hotel_pinlet',\n",
       "   'name': 'Hôtel Esmeralda',\n",
       "   'opening_hours': {'open_now': True},\n",
       "   'photos': [{'height': 1960,\n",
       "     'html_attributions': ['<a href=\"https://maps.google.com/maps/contrib/106443224837840180239\">Fraz A. Khan</a>'],\n",
       "     'photo_reference': 'AcYSjRgxp7zDb6xw_0x3YMpRBKsGgVjpL-tuYeQN5G645zJNDU9tI8Vwi-733AByoxROvl9STO94-pAi5HnPbGaEwho3oJhNNcKeO0mcS58O5iJodCBbiR_KeFOj3_VzPz0k-l4-o-nSxKDhlp5ya58opxr6GcNBRRakZkZmbnGc4wyuAeQR',\n",
       "     'width': 4032}],\n",
       "   'place_id': 'ChIJO_g_H-Fx5kcRmaabUHA3dT4',\n",
       "   'plus_code': {'compound_code': 'V82W+XV Paris, France',\n",
       "    'global_code': '8FW4V82W+XV'},\n",
       "   'rating': 4.1,\n",
       "   'reference': 'ChIJO_g_H-Fx5kcRmaabUHA3dT4',\n",
       "   'scope': 'GOOGLE',\n",
       "   'types': ['lodging', 'point_of_interest', 'establishment'],\n",
       "   'user_ratings_total': 176,\n",
       "   'vicinity': '4 Rue Saint-Julien le Pauvre, Paris'},\n",
       "  {'business_status': 'OPERATIONAL',\n",
       "   'geometry': {'location': {'lat': 48.8530901, 'lng': 2.3447174},\n",
       "    'viewport': {'northeast': {'lat': 48.8544535802915,\n",
       "      'lng': 2.345997680291501},\n",
       "     'southwest': {'lat': 48.85175561970851, 'lng': 2.343299719708498}}},\n",
       "   'icon': 'https://maps.gstatic.com/mapfiles/place_api/icons/v1/png_71/lodging-71.png',\n",
       "   'icon_background_color': '#909CE1',\n",
       "   'icon_mask_base_uri': 'https://maps.gstatic.com/mapfiles/place_api/icons/v2/hotel_pinlet',\n",
       "   'name': 'Albe Hotel',\n",
       "   'opening_hours': {'open_now': True},\n",
       "   'photos': [{'height': 1152,\n",
       "     'html_attributions': ['<a href=\"https://maps.google.com/maps/contrib/117571951379278191466\">Albe Hotel Saint Michel</a>'],\n",
       "     'photo_reference': 'AcYSjRhzXDC22oBSI_mS1c0RG8-PafYteQa0puSH5Gb4b82rQdZEYJhH9GiKrEOQ7a2SDIqZRSyKE_ldD233gwf9MJr8qxLxohV4glsJN3bzJ9dbdTdvUuxID93jsmEa4rbjS5t--hlc-ErY9m_Q9FODrS3Im8IQZsiBh49tYdCRYKrH5d89',\n",
       "     'width': 1600}],\n",
       "   'place_id': 'ChIJ8R5-hOBx5kcRsCOdfj8GLeY',\n",
       "   'plus_code': {'compound_code': 'V83V+6V Paris, France',\n",
       "    'global_code': '8FW4V83V+6V'},\n",
       "   'rating': 4.5,\n",
       "   'reference': 'ChIJ8R5-hOBx5kcRsCOdfj8GLeY',\n",
       "   'scope': 'GOOGLE',\n",
       "   'types': ['lodging', 'point_of_interest', 'establishment'],\n",
       "   'user_ratings_total': 383,\n",
       "   'vicinity': '1 Rue de la Harpe, Paris'},\n",
       "  {'business_status': 'OPERATIONAL',\n",
       "   'geometry': {'location': {'lat': 48.8532403, 'lng': 2.3457375},\n",
       "    'viewport': {'northeast': {'lat': 48.85462748029149,\n",
       "      'lng': 2.347175730291502},\n",
       "     'southwest': {'lat': 48.8519295197085, 'lng': 2.344477769708498}}},\n",
       "   'icon': 'https://maps.gstatic.com/mapfiles/place_api/icons/v1/png_71/lodging-71.png',\n",
       "   'icon_background_color': '#909CE1',\n",
       "   'icon_mask_base_uri': 'https://maps.gstatic.com/mapfiles/place_api/icons/v2/hotel_pinlet',\n",
       "   'name': 'Les Rives de Notre-Dame Hotel',\n",
       "   'opening_hours': {'open_now': True},\n",
       "   'photos': [{'height': 4024,\n",
       "     'html_attributions': ['<a href=\"https://maps.google.com/maps/contrib/116242575283063930652\">Michael Scholz</a>'],\n",
       "     'photo_reference': 'AcYSjRjAGrSNTK48kpyy7_v4Gzq8BQm5Fvpyi-fcroC8uoIyd8sbdel6EVj0pnqRZ6EukPMQ9ZFEy20afZhoLg_QdmaR06A0s3fe8kjrm7T1K-CD5b75CmNKbHspZZw6lBt-S_UO5yKP5lW-7oE97AX8pWn6AJWcLTgC3qZkpKSQewrrt0hX',\n",
       "     'width': 6048}],\n",
       "   'place_id': 'ChIJl7vs8-Bx5kcRfIQzq_4_XmU',\n",
       "   'plus_code': {'compound_code': 'V83W+77 Paris, France',\n",
       "    'global_code': '8FW4V83W+77'},\n",
       "   'rating': 4.6,\n",
       "   'reference': 'ChIJl7vs8-Bx5kcRfIQzq_4_XmU',\n",
       "   'scope': 'GOOGLE',\n",
       "   'types': ['lodging', 'point_of_interest', 'establishment'],\n",
       "   'user_ratings_total': 104,\n",
       "   'vicinity': '15 Quai Saint-Michel, Paris'},\n",
       "  {'business_status': 'OPERATIONAL',\n",
       "   'geometry': {'location': {'lat': 48.85184049999999, 'lng': 2.3448082},\n",
       "    'viewport': {'northeast': {'lat': 48.8531470802915,\n",
       "      'lng': 2.346121880291502},\n",
       "     'southwest': {'lat': 48.8504491197085, 'lng': 2.343423919708498}}},\n",
       "   'icon': 'https://maps.gstatic.com/mapfiles/place_api/icons/v1/png_71/lodging-71.png',\n",
       "   'icon_background_color': '#909CE1',\n",
       "   'icon_mask_base_uri': 'https://maps.gstatic.com/mapfiles/place_api/icons/v2/hotel_pinlet',\n",
       "   'name': 'Hôtel 4 étoiles Parc Saint-Séverin Paris 5ème - Esprit de France',\n",
       "   'opening_hours': {'open_now': True},\n",
       "   'photos': [{'height': 2362,\n",
       "     'html_attributions': ['<a href=\"https://maps.google.com/maps/contrib/107542132357877294567\">Hôtel 4 étoiles Parc Saint Séverin Paris 5ème - Esprit de France</a>'],\n",
       "     'photo_reference': 'AcYSjRj2ZDtDDh-fZ_s_iINHtmmtIWt-P4ZnxhL3jTVrYkiiw9MQ-3X0YKE75PBU6OeLZFaFC8Tn5en3IiOBfEJuigG7QziwPSz1Bz_NbaCtQGrBc_RN5bIasisagtCTG5uG3xeGHCk4d9133fuFoLEr11f9ITEswyZ0w6Ic2ncpOERLnEm3',\n",
       "     'width': 3776}],\n",
       "   'place_id': 'ChIJ9--kuuBx5kcRojwQ1yEK2cY',\n",
       "   'plus_code': {'compound_code': 'V82V+PW Paris, France',\n",
       "    'global_code': '8FW4V82V+PW'},\n",
       "   'rating': 4.6,\n",
       "   'reference': 'ChIJ9--kuuBx5kcRojwQ1yEK2cY',\n",
       "   'scope': 'GOOGLE',\n",
       "   'types': ['lodging', 'point_of_interest', 'establishment'],\n",
       "   'user_ratings_total': 189,\n",
       "   'vicinity': '22 Rue de la Parcheminerie, Paris'},\n",
       "  {'business_status': 'OPERATIONAL',\n",
       "   'geometry': {'location': {'lat': 48.8518743, 'lng': 2.3463436},\n",
       "    'viewport': {'northeast': {'lat': 48.8532481802915,\n",
       "      'lng': 2.347596830291502},\n",
       "     'southwest': {'lat': 48.8505502197085, 'lng': 2.344898869708498}}},\n",
       "   'icon': 'https://maps.gstatic.com/mapfiles/place_api/icons/v1/png_71/lodging-71.png',\n",
       "   'icon_background_color': '#909CE1',\n",
       "   'icon_mask_base_uri': 'https://maps.gstatic.com/mapfiles/place_api/icons/v2/hotel_pinlet',\n",
       "   'name': 'Hotel Henri IV Rive Gauche',\n",
       "   'photos': [{'height': 4032,\n",
       "     'html_attributions': ['<a href=\"https://maps.google.com/maps/contrib/117561863517287206024\">Muzafar Husain</a>'],\n",
       "     'photo_reference': 'AcYSjRjeWLejLoahIw7lq4MtIQXHC2p_LekOkK06mh8ZsSXuSvVmgEJiFalKsoIuL5YRfdJtaf6cYbZT8fAu3Wu9oTHC5J5NmbE-joRnPu8D866P0Dv0KXVneFYH17Uf-U8G0kIrRoHraya5JPx8qFFbk6bkq9CImWTg2X9fCuw1htXGEK3t',\n",
       "     'width': 3024}],\n",
       "   'place_id': 'ChIJ2a4f2-Bx5kcR40Wl3uv_53Y',\n",
       "   'plus_code': {'compound_code': 'V82W+PG Paris, France',\n",
       "    'global_code': '8FW4V82W+PG'},\n",
       "   'rating': 4.5,\n",
       "   'reference': 'ChIJ2a4f2-Bx5kcR40Wl3uv_53Y',\n",
       "   'scope': 'GOOGLE',\n",
       "   'types': ['lodging', 'point_of_interest', 'establishment'],\n",
       "   'user_ratings_total': 171,\n",
       "   'vicinity': 'Rue Saint-Jacques, Paris'},\n",
       "  {'business_status': 'OPERATIONAL',\n",
       "   'geometry': {'location': {'lat': 48.8600866, 'lng': 2.3533543},\n",
       "    'viewport': {'northeast': {'lat': 48.86148808029149,\n",
       "      'lng': 2.354740780291502},\n",
       "     'southwest': {'lat': 48.85879011970849, 'lng': 2.352042819708498}}},\n",
       "   'icon': 'https://maps.gstatic.com/mapfiles/place_api/icons/v1/png_71/lodging-71.png',\n",
       "   'icon_background_color': '#909CE1',\n",
       "   'icon_mask_base_uri': 'https://maps.gstatic.com/mapfiles/place_api/icons/v2/hotel_pinlet',\n",
       "   'name': 'Hôtel Beaubourg',\n",
       "   'opening_hours': {'open_now': True},\n",
       "   'photos': [{'height': 2684,\n",
       "     'html_attributions': ['<a href=\"https://maps.google.com/maps/contrib/115421447635584539926\">Hôtel Beaubourg</a>'],\n",
       "     'photo_reference': 'AcYSjRgRrH3k-38D4bEisEm5EXkDZ2NMqwC4aNwr74aa-ZqHdJVS8jQfWVkEkZ9LYxsH1615TkXd2qv2n9DRQhTlt21122lVPjdpMEunmjXdzKyssocyzEL35PShoKlwocMODcSdHzPLXBZQwKKY5w2REqawB3ViFMyTL3iiQYTrXKrwHd09',\n",
       "     'width': 5937}],\n",
       "   'place_id': 'ChIJCdHKjhxu5kcR0YtyGr7Vftc',\n",
       "   'plus_code': {'compound_code': 'V963+28 Paris, France',\n",
       "    'global_code': '8FW4V963+28'},\n",
       "   'rating': 4.3,\n",
       "   'reference': 'ChIJCdHKjhxu5kcR0YtyGr7Vftc',\n",
       "   'scope': 'GOOGLE',\n",
       "   'types': ['lodging', 'point_of_interest', 'establishment'],\n",
       "   'user_ratings_total': 167,\n",
       "   'vicinity': '11 Rue Simon le Franc, Paris'},\n",
       "  {'business_status': 'OPERATIONAL',\n",
       "   'geometry': {'location': {'lat': 48.859876, 'lng': 2.347049},\n",
       "    'viewport': {'northeast': {'lat': 48.8610872802915,\n",
       "      'lng': 2.348425880291502},\n",
       "     'southwest': {'lat': 48.8583893197085, 'lng': 2.345727919708498}}},\n",
       "   'icon': 'https://maps.gstatic.com/mapfiles/place_api/icons/v1/png_71/lodging-71.png',\n",
       "   'icon_background_color': '#909CE1',\n",
       "   'icon_mask_base_uri': 'https://maps.gstatic.com/mapfiles/place_api/icons/v2/hotel_pinlet',\n",
       "   'name': \"Hôtel Des Ducs D'Anjou\",\n",
       "   'opening_hours': {'open_now': True},\n",
       "   'photos': [{'height': 1400,\n",
       "     'html_attributions': ['<a href=\"https://maps.google.com/maps/contrib/115209143941459061727\">Hotel Des Ducs D&#39;Anjou</a>'],\n",
       "     'photo_reference': 'AcYSjRjv0WcbIyJmGAcvwVlYZoi34ox6up5EdtLKzLMfACf4mR6braAyEm3YN5JZBUVXY8hpRWQCJeGQlao09vYmqrvCYUUHFR_MTSUoGTswW4xEYQVoak-f32HO9kHh8JdWDZtOdNiTBsxPPAaVCavg-eau7h2Wom24Rp7aQd61rzmomYz_',\n",
       "     'width': 1352}],\n",
       "   'place_id': 'ChIJ9ekWGR9u5kcRsS8j5TnWeSE',\n",
       "   'plus_code': {'compound_code': 'V85W+XR Paris, France',\n",
       "    'global_code': '8FW4V85W+XR'},\n",
       "   'rating': 3.9,\n",
       "   'reference': 'ChIJ9ekWGR9u5kcRsS8j5TnWeSE',\n",
       "   'scope': 'GOOGLE',\n",
       "   'types': ['lodging', 'point_of_interest', 'establishment'],\n",
       "   'user_ratings_total': 337,\n",
       "   'vicinity': '1 Rue Sainte-Opportune, Paris'},\n",
       "  {'business_status': 'OPERATIONAL',\n",
       "   'geometry': {'location': {'lat': 48.8515237, 'lng': 2.3486679},\n",
       "    'viewport': {'northeast': {'lat': 48.8529256302915,\n",
       "      'lng': 2.349962130291502},\n",
       "     'southwest': {'lat': 48.8502276697085, 'lng': 2.347264169708498}}},\n",
       "   'icon': 'https://maps.gstatic.com/mapfiles/place_api/icons/v1/png_71/lodging-71.png',\n",
       "   'icon_background_color': '#909CE1',\n",
       "   'icon_mask_base_uri': 'https://maps.gstatic.com/mapfiles/place_api/icons/v2/hotel_pinlet',\n",
       "   'name': 'Hotel Maison Colbert Member of Meliá Collection',\n",
       "   'opening_hours': {'open_now': True},\n",
       "   'photos': [{'height': 3656,\n",
       "     'html_attributions': ['<a href=\"https://maps.google.com/maps/contrib/102194778927204133336\">Hotel Maison Colbert Member of Meliá Collection</a>'],\n",
       "     'photo_reference': 'AcYSjRhAR4utPTWhMbHe7Qr2Vd3XNgc3I_Pn1mSLJD1zP4NDFat_eaKvFC8Ie6wWO7LQNw80DEQTtBQw4FfM_TpTWFB9D35D0eB-JFVo7uKmH9Z3V5kA6qcB2uTrs5LcBXsLR5QF6VF4NkjN0qAEj56QYRuENErB7EypRtnA_RvMJEpO7pD3',\n",
       "     'width': 3543}],\n",
       "   'place_id': 'ChIJI3vbSOFx5kcR84E4IeL2LqI',\n",
       "   'plus_code': {'compound_code': 'V82X+JF Paris, France',\n",
       "    'global_code': '8FW4V82X+JF'},\n",
       "   'rating': 4.7,\n",
       "   'reference': 'ChIJI3vbSOFx5kcR84E4IeL2LqI',\n",
       "   'scope': 'GOOGLE',\n",
       "   'types': ['lodging', 'point_of_interest', 'establishment'],\n",
       "   'user_ratings_total': 24,\n",
       "   'vicinity': \"7 Rue de l'Hôtel Colbert, Paris\"},\n",
       "  {'business_status': 'OPERATIONAL',\n",
       "   'geometry': {'location': {'lat': 48.8499446, 'lng': 2.346247699999999},\n",
       "    'viewport': {'northeast': {'lat': 48.8513264802915,\n",
       "      'lng': 2.347622530291501},\n",
       "     'southwest': {'lat': 48.8486285197085, 'lng': 2.344924569708497}}},\n",
       "   'icon': 'https://maps.gstatic.com/mapfiles/place_api/icons/v1/png_71/lodging-71.png',\n",
       "   'icon_background_color': '#909CE1',\n",
       "   'icon_mask_base_uri': 'https://maps.gstatic.com/mapfiles/place_api/icons/v2/hotel_pinlet',\n",
       "   'name': 'Home Latin',\n",
       "   'photos': [{'height': 4080,\n",
       "     'html_attributions': ['<a href=\"https://maps.google.com/maps/contrib/113966656287531023757\">Ioan Mihael</a>'],\n",
       "     'photo_reference': 'AcYSjRjKK3Ayjh1qKTKQ0TK8imeMG5FQxMP-FbLoRIGdDIhZfxP32qGawXFlmuidbxd978ntltEpzjsmg33CgvsX2AW3dikjuPJcm6gd-2eElW0pb_eFPpGCZY-SAd_X0ZksPFczfQk3R_M4q77E2pAqaWJEvSYZUNZZ1wmLJnFbAB9sfufM',\n",
       "     'width': 3072}],\n",
       "   'place_id': 'ChIJMWNDIudx5kcRupjNdNDYKkw',\n",
       "   'plus_code': {'compound_code': 'R8XW+XF Paris, France',\n",
       "    'global_code': '8FW4R8XW+XF'},\n",
       "   'rating': 3.4,\n",
       "   'reference': 'ChIJMWNDIudx5kcRupjNdNDYKkw',\n",
       "   'scope': 'GOOGLE',\n",
       "   'types': ['lodging', 'point_of_interest', 'establishment'],\n",
       "   'user_ratings_total': 358,\n",
       "   'vicinity': '15-17 Rue du Sommerard, Paris'},\n",
       "  {'business_status': 'OPERATIONAL',\n",
       "   'geometry': {'location': {'lat': 48.8514465, 'lng': 2.3495407},\n",
       "    'viewport': {'northeast': {'lat': 48.85276158029151,\n",
       "      'lng': 2.350874680291501},\n",
       "     'southwest': {'lat': 48.85006361970851, 'lng': 2.348176719708498}}},\n",
       "   'icon': 'https://maps.gstatic.com/mapfiles/place_api/icons/v1/png_71/lodging-71.png',\n",
       "   'icon_background_color': '#909CE1',\n",
       "   'icon_mask_base_uri': 'https://maps.gstatic.com/mapfiles/place_api/icons/v2/hotel_pinlet',\n",
       "   'name': 'Les Degrés de Notre Dame',\n",
       "   'photos': [{'height': 1984,\n",
       "     'html_attributions': ['<a href=\"https://maps.google.com/maps/contrib/115564994803632359392\">christophe etter</a>'],\n",
       "     'photo_reference': 'AcYSjRjJIx5f7PJXJPDjmF7GJI80DAmiB80RCjBL86v6bIDHuAs6c64l4V3b4mC0fhXBc1Is73VsAY0zL_reh1-H-ElzvIjl83P_UjCzpz9eOsAPLxxW7cO0ZOm3qDiaviP5duImHhCsB129mUj03Pefmt_fHek3mEmS0BW0ZsYnBXNBjx8y',\n",
       "     'width': 3968}],\n",
       "   'place_id': 'ChIJMyUCVOFx5kcRcLsa7V0Y1m4',\n",
       "   'plus_code': {'compound_code': 'V82X+HR Paris, France',\n",
       "    'global_code': '8FW4V82X+HR'},\n",
       "   'rating': 3.8,\n",
       "   'reference': 'ChIJMyUCVOFx5kcRcLsa7V0Y1m4',\n",
       "   'scope': 'GOOGLE',\n",
       "   'types': ['lodging', 'point_of_interest', 'establishment'],\n",
       "   'user_ratings_total': 78,\n",
       "   'vicinity': '10 Rue des Grands Degrés, Paris'},\n",
       "  {'business_status': 'OPERATIONAL',\n",
       "   'geometry': {'location': {'lat': 48.85221300000001, 'lng': 2.3420703},\n",
       "    'viewport': {'northeast': {'lat': 48.8535826302915,\n",
       "      'lng': 2.343484980291502},\n",
       "     'southwest': {'lat': 48.8508846697085, 'lng': 2.340787019708498}}},\n",
       "   'icon': 'https://maps.gstatic.com/mapfiles/place_api/icons/v1/png_71/lodging-71.png',\n",
       "   'icon_background_color': '#909CE1',\n",
       "   'icon_mask_base_uri': 'https://maps.gstatic.com/mapfiles/place_api/icons/v2/hotel_pinlet',\n",
       "   'name': 'Hôtel Du Lys',\n",
       "   'photos': [{'height': 4000,\n",
       "     'html_attributions': ['<a href=\"https://maps.google.com/maps/contrib/114730070775510202970\">P Rodriguez</a>'],\n",
       "     'photo_reference': 'AcYSjRj0PLdU4hEi3ljYVAr6U-o9E-fofZHBnrMZCBO27HmRRK6QxAaM_poMM41xd9oS5lQt9Nv5is998rzONpRFktkEDWpbXyI6AXEIFlHuekZHTI1_mwu6_alEt2-CYhDCCkxLlk2BKbfKSi3rxzHyUw_Dhvapi0z3Dkfnr2Ig7PxnF7IF',\n",
       "     'width': 3000}],\n",
       "   'place_id': 'ChIJrcnEaN5x5kcRjjOnEG6_HHs',\n",
       "   'plus_code': {'compound_code': 'V82R+VR Paris, France',\n",
       "    'global_code': '8FW4V82R+VR'},\n",
       "   'rating': 3.9,\n",
       "   'reference': 'ChIJrcnEaN5x5kcRjjOnEG6_HHs',\n",
       "   'scope': 'GOOGLE',\n",
       "   'types': ['lodging', 'point_of_interest', 'establishment'],\n",
       "   'user_ratings_total': 251,\n",
       "   'vicinity': '23 Rue Serpente, Paris'},\n",
       "  {'business_status': 'OPERATIONAL',\n",
       "   'geometry': {'location': {'lat': 48.8607212, 'lng': 2.342585},\n",
       "    'viewport': {'northeast': {'lat': 48.8620849802915,\n",
       "      'lng': 2.343869380291502},\n",
       "     'southwest': {'lat': 48.8593870197085, 'lng': 2.341171419708498}}},\n",
       "   'icon': 'https://maps.gstatic.com/mapfiles/place_api/icons/v1/png_71/lodging-71.png',\n",
       "   'icon_background_color': '#909CE1',\n",
       "   'icon_mask_base_uri': 'https://maps.gstatic.com/mapfiles/place_api/icons/v2/hotel_pinlet',\n",
       "   'name': \"L'Empire Paris\",\n",
       "   'opening_hours': {'open_now': True},\n",
       "   'photos': [{'height': 1123,\n",
       "     'html_attributions': ['<a href=\"https://maps.google.com/maps/contrib/112201701198428774080\">L&#39;Empire Paris</a>'],\n",
       "     'photo_reference': 'AcYSjRjfQ67CHu2xl6IyrAIwKQavbnKJueOYn1x3Y9bdi2CIm26acxWskxHk1LKucz9v2fi1CeihTdltFnzXgxnHxaK3ab1h7X96LYl8ADN2UO_0J7vLZ8LWGN4B0d_dZDybYddJ3OZcVdEucuDLmSKzxkNuIWwgcOyq3y8yLZNritJXS_PX',\n",
       "     'width': 2000}],\n",
       "   'place_id': 'ChIJ0Wj4hCFu5kcRQ67Hb2M6b9Q',\n",
       "   'plus_code': {'compound_code': 'V86V+72 Paris, France',\n",
       "    'global_code': '8FW4V86V+72'},\n",
       "   'rating': 4.2,\n",
       "   'reference': 'ChIJ0Wj4hCFu5kcRQ67Hb2M6b9Q',\n",
       "   'scope': 'GOOGLE',\n",
       "   'types': ['lodging', 'point_of_interest', 'establishment'],\n",
       "   'user_ratings_total': 496,\n",
       "   'vicinity': \"48 Rue de l'Arbre Sec, Paris\"},\n",
       "  {'business_status': 'OPERATIONAL',\n",
       "   'geometry': {'location': {'lat': 48.85924579999999,\n",
       "     'lng': 2.341004799999999},\n",
       "    'viewport': {'northeast': {'lat': 48.8606175802915,\n",
       "      'lng': 2.342363980291502},\n",
       "     'southwest': {'lat': 48.8579196197085, 'lng': 2.339666019708498}}},\n",
       "   'icon': 'https://maps.gstatic.com/mapfiles/place_api/icons/v1/png_71/lodging-71.png',\n",
       "   'icon_background_color': '#909CE1',\n",
       "   'icon_mask_base_uri': 'https://maps.gstatic.com/mapfiles/place_api/icons/v2/hotel_pinlet',\n",
       "   'name': 'Hotel Relais Du Louvre',\n",
       "   'photos': [{'height': 3024,\n",
       "     'html_attributions': ['<a href=\"https://maps.google.com/maps/contrib/108368902339576647054\">Joe Belknap Wall</a>'],\n",
       "     'photo_reference': 'AcYSjRjw3821gLr0FSlqGkOaLNQo-ARSzfmlkzxM7TvxRdQ1HUWRk4w8h-WUL4eN-b2_MRKV2SedL-gR8favYeLZ92hzqCaLwfVLJWr_7bdJRRA92lPuR9EDGOtrbIKlzY8Ah2ceGJwmpAiKW_cjFZtFYfzbeH2xaVFjgSnFGaq2coBZb_xr',\n",
       "     'width': 3024}],\n",
       "   'place_id': 'ChIJb4ExGiFu5kcRx-LufqT5JSw',\n",
       "   'plus_code': {'compound_code': 'V85R+MC Paris, France',\n",
       "    'global_code': '8FW4V85R+MC'},\n",
       "   'rating': 4.6,\n",
       "   'reference': 'ChIJb4ExGiFu5kcRx-LufqT5JSw',\n",
       "   'scope': 'GOOGLE',\n",
       "   'types': ['lodging', 'point_of_interest', 'establishment'],\n",
       "   'user_ratings_total': 143,\n",
       "   'vicinity': \"19 Rue des Prêtres Saint-Germain l'Auxerrois, Paris\"},\n",
       "  {'business_status': 'OPERATIONAL',\n",
       "   'geometry': {'location': {'lat': 48.8632711, 'lng': 2.352693},\n",
       "    'viewport': {'northeast': {'lat': 48.86461498029149,\n",
       "      'lng': 2.353958580291502},\n",
       "     'southwest': {'lat': 48.8619170197085, 'lng': 2.351260619708498}}},\n",
       "   'icon': 'https://maps.gstatic.com/mapfiles/place_api/icons/v1/png_71/lodging-71.png',\n",
       "   'icon_background_color': '#909CE1',\n",
       "   'icon_mask_base_uri': 'https://maps.gstatic.com/mapfiles/place_api/icons/v2/hotel_pinlet',\n",
       "   'name': 'Hôtel Georgette',\n",
       "   'opening_hours': {'open_now': True},\n",
       "   'photos': [{'height': 1181,\n",
       "     'html_attributions': ['<a href=\"https://maps.google.com/maps/contrib/112851757923591367842\">Hôtel Georgette</a>'],\n",
       "     'photo_reference': 'AcYSjRiC0XXw64YPNTaKs1eAhHzYU911lYB5Tchwq_7gig10NBvnmyNHaEKCoGXWd70hBogu5sz_AoGDJpPq4v3J-n7Fg-Hg7ufnBImOm2oLDb3KruNAow_YpjTY77WHR-EPhQMxfSWABr402QsYML6dybpiIAnbzzf-TKC3owLAEKxysDtP',\n",
       "     'width': 1772}],\n",
       "   'place_id': 'ChIJZ6OWsRtu5kcRuyOkJ6_e06E',\n",
       "   'plus_code': {'compound_code': 'V973+83 Paris, France',\n",
       "    'global_code': '8FW4V973+83'},\n",
       "   'rating': 4.5,\n",
       "   'reference': 'ChIJZ6OWsRtu5kcRuyOkJ6_e06E',\n",
       "   'scope': 'GOOGLE',\n",
       "   'types': ['lodging', 'point_of_interest', 'establishment'],\n",
       "   'user_ratings_total': 222,\n",
       "   'vicinity': '36 Rue du Grenier-Saint-Lazare, Paris'}],\n",
       " 'status': 'OK'}"
      ]
     },
     "execution_count": 65,
     "metadata": {},
     "output_type": "execute_result"
    }
   ],
   "source": [
    "# Set the parameters to search for a hotel in Paris.\n",
    "params = {\n",
    "    \"radius\": 5000,\n",
    "    \"types\": \"lodging\",\n",
    "    \"key\": g_key,\n",
    "    \"location\": \"48.8566, 2.3522\"}\n",
    "# Use base URL to search for hotels in Paris.\n",
    "base_url = \"https://maps.googleapis.com/maps/api/place/nearbysearch/json\"\n",
    "# Make request and get the JSON data from the search.\n",
    "hotels = requests.get(base_url, params=params).json()\n",
    "\n",
    "hotels"
   ]
  },
  {
   "cell_type": "code",
   "execution_count": 68,
   "id": "db60de50",
   "metadata": {},
   "outputs": [
    {
     "data": {
      "text/plain": [
       "'Hôtel Duo'"
      ]
     },
     "execution_count": 68,
     "metadata": {},
     "output_type": "execute_result"
    }
   ],
   "source": [
    "# hotels[\"results\"][0]\n",
    "hotels[\"results\"][0][\"name\"]"
   ]
  },
  {
   "cell_type": "code",
   "execution_count": 77,
   "id": "86365648",
   "metadata": {},
   "outputs": [],
   "source": [
    "# Iterate through the DataFrame.\n",
    "for index, row in hotel_df.iterrows():\n",
    "    # Get the latitude and longitude.\n",
    "    lat = row[\"Lat\"]\n",
    "    lng = row[\"Lng\"]\n",
    "\n",
    "    # Add the latitude and longitude to location key for the params dictionary.\n",
    "    params[\"location\"] = f\"{lat},{lng}\"\n",
    "\n",
    "    # Use the search term: \"lodging\" and our latitude and longitude.\n",
    "    base_url = \"https://maps.googleapis.com/maps/api/place/nearbysearch/json\"\n",
    "    # Make request and get the JSON data from the search.\n",
    "    hotels = requests.get(base_url, params=params).json()\n",
    "    # Grab the first hotel from the results and store the name.\n",
    "    try:\n",
    "        hotel_df.loc[index, \"Hotel Name\"] = hotels[\"results\"][0][\"name\"]\n",
    "    except (IndexError):\n",
    "        print(\"Hotel not found... skipping.\")"
   ]
  },
  {
   "cell_type": "code",
   "execution_count": 78,
   "id": "fa089a8a",
   "metadata": {},
   "outputs": [
    {
     "data": {
      "application/vnd.jupyter.widget-view+json": {
       "model_id": "ed8ece922232455dae74ade7403cc163",
       "version_major": 2,
       "version_minor": 0
      },
      "text/plain": [
       "Figure(layout=FigureLayout(height='420px'))"
      ]
     },
     "metadata": {},
     "output_type": "display_data"
    }
   ],
   "source": [
    "# Add a heatmap of temperature for the vacation spots.\n",
    "locations = hotel_df[[\"Lat\", \"Lng\"]]\n",
    "max_temp = hotel_df[\"Max Temp\"]\n",
    "fig = gmaps.figure(center=(30.0, 31.0), zoom_level=1.5)\n",
    "heat_layer = gmaps.heatmap_layer(locations, weights=max_temp, dissipating=False,\n",
    "             max_intensity=300, point_radius=4)\n",
    "\n",
    "fig.add_layer(heat_layer)\n",
    "# Call the figure to plot the data.\n",
    "fig"
   ]
  },
  {
   "cell_type": "code",
   "execution_count": 79,
   "id": "5f61724e",
   "metadata": {},
   "outputs": [
    {
     "data": {
      "application/vnd.jupyter.widget-view+json": {
       "model_id": "df7d0d49b1be42668c65f4318128d286",
       "version_major": 2,
       "version_minor": 0
      },
      "text/plain": [
       "Figure(layout=FigureLayout(height='420px'))"
      ]
     },
     "metadata": {},
     "output_type": "display_data"
    }
   ],
   "source": [
    "# Add a heatmap of temperature for the vacation spots and marker for each city.\n",
    "locations = hotel_df[[\"Lat\", \"Lng\"]]\n",
    "max_temp = hotel_df[\"Max Temp\"]\n",
    "fig = gmaps.figure(center=(30.0, 31.0), zoom_level=1.5)\n",
    "heat_layer = gmaps.heatmap_layer(locations, weights=max_temp,\n",
    "             dissipating=False, max_intensity=300, point_radius=4)\n",
    "marker_layer = gmaps.marker_layer(locations)\n",
    "fig.add_layer(heat_layer)\n",
    "fig.add_layer(marker_layer)\n",
    "# Call the figure to plot the data.\n",
    "fig"
   ]
  },
  {
   "cell_type": "code",
   "execution_count": 81,
   "id": "13855be1",
   "metadata": {},
   "outputs": [],
   "source": [
    "info_box_template = \"\"\"\n",
    "<dl>\n",
    "<dt>Hotel Name</dt><dd>{Hotel Name}</dd>\n",
    "<dt>City</dt><dd>{City}</dd>\n",
    "<dt>Country</dt><dd>{Country}</dd>\n",
    "<dt>Max Temp</dt><dd>{Max Temp} °F</dd>\n",
    "</dl>\n",
    "\"\"\""
   ]
  },
  {
   "cell_type": "code",
   "execution_count": 82,
   "id": "7d3595ea",
   "metadata": {},
   "outputs": [],
   "source": [
    "# Store the DataFrame Row.\n",
    "hotel_info = [info_box_template.format(**row) for index, row in hotel_df.iterrows()]"
   ]
  },
  {
   "cell_type": "code",
   "execution_count": 83,
   "id": "3e6d24bd",
   "metadata": {},
   "outputs": [
    {
     "data": {
      "application/vnd.jupyter.widget-view+json": {
       "model_id": "9fad396d321b47c2be1a81dc9d95e0a1",
       "version_major": 2,
       "version_minor": 0
      },
      "text/plain": [
       "Figure(layout=FigureLayout(height='420px'))"
      ]
     },
     "metadata": {},
     "output_type": "display_data"
    }
   ],
   "source": [
    "# Add a heatmap of temperature for the vacation spots and a pop-up marker for each city.\n",
    "locations = hotel_df[[\"Lat\", \"Lng\"]]\n",
    "max_temp = hotel_df[\"Max Temp\"]\n",
    "fig = gmaps.figure(center=(30.0, 31.0), zoom_level=1.5)\n",
    "heat_layer = gmaps.heatmap_layer(locations, weights=max_temp,dissipating=False,\n",
    "             max_intensity=300, point_radius=4)\n",
    "marker_layer = gmaps.marker_layer(locations, info_box_content=hotel_info)\n",
    "fig.add_layer(heat_layer)\n",
    "fig.add_layer(marker_layer)\n",
    "\n",
    "# Call the figure to plot the data.\n",
    "fig"
   ]
  },
  {
   "cell_type": "code",
   "execution_count": null,
   "id": "3a542b15",
   "metadata": {},
   "outputs": [],
   "source": []
  }
 ],
 "metadata": {
  "kernelspec": {
   "display_name": "PythonData",
   "language": "python",
   "name": "pythondata"
  },
  "language_info": {
   "codemirror_mode": {
    "name": "ipython",
    "version": 3
   },
   "file_extension": ".py",
   "mimetype": "text/x-python",
   "name": "python",
   "nbconvert_exporter": "python",
   "pygments_lexer": "ipython3",
   "version": "3.9.12"
  }
 },
 "nbformat": 4,
 "nbformat_minor": 5
}
